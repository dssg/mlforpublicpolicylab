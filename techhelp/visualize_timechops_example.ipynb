{
 "cells": [
  {
   "cell_type": "code",
   "execution_count": 10,
   "metadata": {},
   "outputs": [
    {
     "name": "stdout",
     "output_type": "stream",
     "text": [
      "\u001b[33mDEPRECATION: Configuring installation scheme with distutils config files is deprecated and will no longer work in the near future. If you are using a Homebrew or Linuxbrew Python, please see discussion at https://github.com/Homebrew/homebrew-core/issues/76621\u001b[0m\u001b[33m\n",
      "\u001b[0mCollecting plotly\n",
      "  Downloading plotly-5.17.0-py2.py3-none-any.whl (15.6 MB)\n",
      "\u001b[2K     \u001b[38;2;114;156;31m━━━━━━━━━━━━━━━━━━━━━━━━━━━━━━━━━━━━━━━━\u001b[0m \u001b[32m15.6/15.6 MB\u001b[0m \u001b[31m8.0 MB/s\u001b[0m eta \u001b[36m0:00:00\u001b[0mm eta \u001b[36m0:00:01\u001b[0m[36m0:00:01\u001b[0m\n",
      "\u001b[?25hRequirement already satisfied: packaging in /usr/local/lib/python3.9/site-packages (from plotly) (20.9)\n",
      "Collecting tenacity>=6.2.0\n",
      "  Downloading tenacity-8.2.3-py3-none-any.whl (24 kB)\n",
      "Requirement already satisfied: pyparsing>=2.0.2 in /usr/local/lib/python3.9/site-packages (from packaging->plotly) (2.4.7)\n",
      "Installing collected packages: tenacity, plotly\n",
      "\u001b[33m  DEPRECATION: Configuring installation scheme with distutils config files is deprecated and will no longer work in the near future. If you are using a Homebrew or Linuxbrew Python, please see discussion at https://github.com/Homebrew/homebrew-core/issues/76621\u001b[0m\u001b[33m\n",
      "\u001b[0m\u001b[33m  DEPRECATION: Configuring installation scheme with distutils config files is deprecated and will no longer work in the near future. If you are using a Homebrew or Linuxbrew Python, please see discussion at https://github.com/Homebrew/homebrew-core/issues/76621\u001b[0m\u001b[33m\n",
      "\u001b[0m\u001b[33mDEPRECATION: Configuring installation scheme with distutils config files is deprecated and will no longer work in the near future. If you are using a Homebrew or Linuxbrew Python, please see discussion at https://github.com/Homebrew/homebrew-core/issues/76621\u001b[0m\u001b[33m\n",
      "\u001b[0mSuccessfully installed plotly-5.17.0 tenacity-8.2.3\n",
      "\n",
      "\u001b[1m[\u001b[0m\u001b[34;49mnotice\u001b[0m\u001b[1;39;49m]\u001b[0m\u001b[39;49m A new release of pip available: \u001b[0m\u001b[31;49m22.3.1\u001b[0m\u001b[39;49m -> \u001b[0m\u001b[32;49m23.2.1\u001b[0m\n",
      "\u001b[1m[\u001b[0m\u001b[34;49mnotice\u001b[0m\u001b[1;39;49m]\u001b[0m\u001b[39;49m To update, run: \u001b[0m\u001b[32;49mpython3.9 -m pip install --upgrade pip\u001b[0m\n"
     ]
    }
   ],
   "source": [
    "!pip install plotly\n",
    "\n",
    "from triage.component.timechop.plotting import visualize_chops\n",
    "from triage.component.timechop import Timechop\n",
    "import matplotlib\n",
    "matplotlib.use('Agg')\n",
    "import matplotlib.dates as md\n",
    "import numpy as np\n",
    "from triage.util.conf import convert_str_to_relativedelta\n",
    "import matplotlib.pyplot as plt\n",
    "import yaml\n",
    "import plotly.express as px\n",
    "from plotly.subplots import make_subplots\n",
    "import plotly.graph_objects as go\n",
    "from datetime import datetime\n",
    "%matplotlib inline\n",
    "import yaml"
   ]
  },
  {
   "cell_type": "code",
   "execution_count": 13,
   "metadata": {},
   "outputs": [],
   "source": [
    "def visualize_chops_plotly(chopper, selected_splits=None, show_label_timespans=True, show_boxes=True, show_annotations=True):\n",
    "    \"\"\"Visualize time chops of a given Timechop object using plotly\n",
    "\n",
    "    Args:\n",
    "        chopper (triage.component.timechop.Timechop): A fully-configured Timechop object\n",
    "        selected_splits (list): Indices of train-val sets to plot. E.g. [0, 1, 2] plots the 3 most recent splits, [0,-1] plots the first and last splits.\n",
    "            Defaults to None, which plots all splits.\n",
    "        show_label_timespans (bool): Whether or not to draw horizontal lines to show label timespan\n",
    "            for as-of-times\n",
    "        show_boxes (bool): Whether or not to show a rectangle highlighting train-test matrices\n",
    "        show_annotations (bool): Whether or not to add annotations on the latest split, showing what each of the timechop parameters mean\n",
    "    \"\"\"\n",
    "    chops = chopper.chop_time()\n",
    "    chops.reverse() # reverse to get the most recent set first\n",
    "\n",
    "    # Subset to relevant splits if arg specified, and generate titles for each split\n",
    "    if selected_splits is not None:\n",
    "      chops = [chops[i] for i in selected_splits]\n",
    "      titles = tuple(f\"Train-Validation Split {i+1}\" for i in selected_splits)\n",
    "    else:\n",
    "      titles = tuple(f\"Train-Validation Split {i+1}\" for i in range(len(chops)))\n",
    "\n",
    "    fig = make_subplots(rows=len(chops),\n",
    "                        cols=1,\n",
    "                        shared_xaxes=True,\n",
    "                        shared_yaxes=True,\n",
    "                        vertical_spacing=0.05,\n",
    "                        subplot_titles=titles) # adds titles for each subplot\n",
    "\n",
    "    # For each train-val split\n",
    "    for idx, chop in enumerate(chops):\n",
    "        train_as_of_times = chop[\"train_matrix\"][\"as_of_times\"]\n",
    "        test_as_of_times = chop[\"test_matrices\"][0][\"as_of_times\"]\n",
    "\n",
    "        test_label_timespan = chop[\"test_matrices\"][0][\"test_label_timespan\"]\n",
    "        training_label_timespan = chop[\"train_matrix\"][\"training_label_timespan\"]\n",
    "\n",
    "        # Colors for train/test\n",
    "        train_color = \"rgba(3, 37, 126\" # dark blue (left open because we add an opacity argument below)\n",
    "        test_color = \"rgba(139, 0, 0\" # magenta (left open because we add an opacity argument below)\n",
    "        as_of_date_marker_opacity = ', 1)' # the extra ', 1)' defines opacity. 100% solid for markers\n",
    "        label_line_opacity = ', 0.3)' # 30% opacity for the label lines\n",
    "        rectangle_fill_opacity = ', 0.15)' # 15% opacity for rectangle fill\n",
    "\n",
    "        train_as_of_date_color = train_color + as_of_date_marker_opacity\n",
    "        train_label_period_color = train_color + label_line_opacity\n",
    "        train_rectangle_fill = train_color + rectangle_fill_opacity\n",
    "        test_as_of_date_color = test_color + as_of_date_marker_opacity\n",
    "        test_label_period_color = test_color + label_line_opacity\n",
    "        test_rectangle_fill = test_color + rectangle_fill_opacity\n",
    "\n",
    "        # Show legend only if idx = 0 (i.e. first train-val set we are displaying)\n",
    "        if idx == 0:\n",
    "          # Train set as-of-date markers\n",
    "          fig.add_trace(\n",
    "              go.Scatter(x=[x.date() for x in train_as_of_times],\n",
    "                        y=[x for x in range(len(train_as_of_times))],\n",
    "                        mode='markers',\n",
    "                        marker=dict(color=train_as_of_date_color),\n",
    "                        name='Training as-of-date',\n",
    "                        showlegend=True,\n",
    "                        hovertemplate=\"%{x}<extra></extra>\" # the extra extra tag gets rid of a default 'trace' line in the hover output and just shows 'x', the date\n",
    "                        ),\n",
    "              row=idx+1, # row and column of the subplots to add this trace object to\n",
    "              col=1\n",
    "              )\n",
    "          # Validation set as-of-date markers\n",
    "          fig.add_trace(\n",
    "            go.Scatter(x=[x for x in test_as_of_times],\n",
    "                      y=[x for x in range(len(test_as_of_times))],\n",
    "                      mode='markers',\n",
    "                      name='Validation as-of-date',\n",
    "                      showlegend=True,\n",
    "                      marker=dict(color=test_as_of_date_color),\n",
    "                      hovertemplate=\"%{x}<extra></extra>\"),\n",
    "            row=idx+1,\n",
    "            col=1\n",
    "            )\n",
    "        # Suppress legend if not the first subplot; only difference with above is showlegend=False (note, anytime we add a trace, we have to set showlegend=False to suppress useless info in the legend)\n",
    "        else:\n",
    "          # Train set as-of-date markers\n",
    "          fig.add_trace(\n",
    "              go.Scatter(x=[x.date() for x in train_as_of_times],\n",
    "                        y=[x for x in range(len(train_as_of_times))],\n",
    "                        mode='markers',\n",
    "                        marker=dict(color=train_as_of_date_color),\n",
    "                        name='Training as-of-date',\n",
    "                        showlegend=False,\n",
    "                        hovertemplate=\"%{x}<extra></extra>\" # the extra extra tag gets rid of a default 'trace' line in the hover output and just shows 'x', the date\n",
    "                        ),\n",
    "              row=idx+1, # row and column of the subplots to add this trace object to\n",
    "              col=1\n",
    "              )\n",
    "\n",
    "          # Validation set as-of-date markers\n",
    "          fig.add_trace(\n",
    "            go.Scatter(x=[x for x in test_as_of_times],\n",
    "                      y=[x for x in range(len(test_as_of_times))],\n",
    "                      mode='markers',\n",
    "                      name='Validation as-of-date',\n",
    "                      showlegend=False,\n",
    "                      marker=dict(color=test_as_of_date_color),\n",
    "                      hovertemplate=\"%{x}<extra></extra>\"),\n",
    "            row=idx+1,\n",
    "            col=1\n",
    "            )\n",
    "\n",
    "\n",
    "        # Add test_durations annotation if option selected\n",
    "        if idx == 0 and show_annotations==True:\n",
    "\n",
    "          # Add a dashed line to show test_durations span\n",
    "          x0 = test_as_of_times[0]\n",
    "          x1 = test_as_of_times[-1]\n",
    "          x_mid = x0 + (x1-x0)/2\n",
    "          y = -1 # place the test durations labeling below the graph\n",
    "          fig.add_shape(type='line', x0=x0, x1=x1, y0=y, y1=y, line={'color': 'green'}, row=idx+1, col=1)\n",
    "          fig.add_annotation(x=x_mid, y=y-1, text=f\"Test duration: {chop['test_matrices'][0]['test_duration']}\", showarrow=False)\n",
    "\n",
    "        # Add label timespan lines if option selected\n",
    "        if show_label_timespans is True:\n",
    "\n",
    "          # For training as_of_dates\n",
    "          for i in range(len(train_as_of_times)):\n",
    "            fig.add_trace(\n",
    "                go.Scatter(\n",
    "                    x=[train_as_of_times[i].date(), train_as_of_times[i].date() + convert_str_to_relativedelta(training_label_timespan)],\n",
    "                    y=[i,i],\n",
    "                    marker=dict(color=train_label_period_color, line=dict(color=train_label_period_color)),\n",
    "                    hovertemplate=\"%{x}<extra></extra>\",\n",
    "                    showlegend=False\n",
    "                ),\n",
    "              row=idx+1,\n",
    "              col=1\n",
    "            )\n",
    "\n",
    "            # Add annotation showing train label timespan on first bar in first train-val set (if option specified)\n",
    "            if i == len(train_as_of_times)-1 and idx == 0 and show_annotations==True:\n",
    "\n",
    "              # Have the x in between the label timespan\n",
    "              x0 = train_as_of_times[i].date()\n",
    "              x1 = train_as_of_times[i].date() + convert_str_to_relativedelta(training_label_timespan)\n",
    "              x_pos = x0 + (x1 - x0)/2\n",
    "\n",
    "              # Position at a y-value above the bar\n",
    "              y_pos = i\n",
    "              fig.add_annotation(x=x_pos, y=y_pos, text='Label timespan', showarrow=True, arrowhead=1, row=idx+1, col=1)\n",
    "\n",
    "          # For test as_of_dates\n",
    "          for i in range(len(test_as_of_times)):\n",
    "            fig.add_trace(\n",
    "                go.Scatter(\n",
    "                    x=[test_as_of_times[i].date(), test_as_of_times[i].date() + convert_str_to_relativedelta(test_label_timespan)],\n",
    "                    y=[i,i],\n",
    "                    marker=dict(color= test_label_period_color, line=dict(color= test_label_period_color)),\n",
    "                    showlegend=False,\n",
    "                    hovertemplate=\"%{x}<extra></extra>\"),\n",
    "              row=idx+1,\n",
    "              col=1\n",
    "            )\n",
    "\n",
    "            # Add annotation showing test label timespan on first bar in first train-val set (if option specified)\n",
    "            if i == len(test_as_of_times)-1 and idx == 0 and show_annotations==True:\n",
    "\n",
    "                # Have the x in between the label timespan\n",
    "                x0 = test_as_of_times[i].date()\n",
    "                x1 = test_as_of_times[i].date() + convert_str_to_relativedelta(test_label_timespan)\n",
    "                x_pos = x0 + (x1 - x0)/2\n",
    "\n",
    "                # Position at a y-value above the bar\n",
    "                y_pos = i\n",
    "                fig.add_annotation(x=x_pos, y=y_pos, text='Label timespan', showarrow=True, arrowhead=1, row=idx+1, col=1)\n",
    "\n",
    "        # Add rectangles/boxes to mark train-test matrices\n",
    "        if show_boxes is True:\n",
    "\n",
    "          # Training matrix rectangle\n",
    "          # Rectangle params\n",
    "          x0 = min(train_as_of_times).date()\n",
    "          x1 = max(train_as_of_times).date() + convert_str_to_relativedelta(training_label_timespan)\n",
    "          y = max(len(test_as_of_times), len(train_as_of_times))\n",
    "\n",
    "          fig.add_trace(\n",
    "              go.Scatter(x =[x0,x0,x1,x1,x0], y=[0,y,y,0,0],\n",
    "                        fill='toself', fillcolor=train_rectangle_fill,\n",
    "                        showlegend=False,\n",
    "                        marker=dict(color='rgba(0,255,0,0)', line=dict(color='rgba(0,255,0,0)')), # setting 0 opacity so we don't see the lines or markers\n",
    "                        hoverinfo='skip'),\n",
    "              row=idx+1,\n",
    "              col=1,\n",
    "          )\n",
    "\n",
    "          # #Add annotated text to the middle of the training set rectangle -> this code works, but the positioning is a bit weird, so need to tweak\n",
    "          # middle_index = round(len(train_as_of_times)/2)\n",
    "          # x_middle = train_as_of_times[middle_index].date() + convert_str_to_relativedelta(training_label_timespan)\n",
    "          # fig.add_trace(\n",
    "          #     go.Scatter(x =[x_middle], y=[y-1],\n",
    "          #               mode='text',\n",
    "          #               text=\"Training Data\",\n",
    "          #               marker=dict(color='rgba(0,255,0,0)', line=dict(color='rgba(0,255,0,0)')), # setting 0 opacity so we don't see the lines\n",
    "          #               hoverinfo='skip'),\n",
    "          #     row=idx+1,\n",
    "          #     col=1,\n",
    "          # )\n",
    "\n",
    "          # Test set rectangle\n",
    "\n",
    "          # Rectangle params\n",
    "          x0 = min(test_as_of_times).date()\n",
    "          x1 = max(test_as_of_times).date() + convert_str_to_relativedelta(test_label_timespan)\n",
    "          y = max(len(test_as_of_times), len(train_as_of_times))\n",
    "\n",
    "          fig.add_trace(\n",
    "              go.Scatter(x =[x0,x0,x1,x1,x0], y=[0,y,y,0,0],\n",
    "                        fill='toself', fillcolor=test_rectangle_fill,\n",
    "                        showlegend=False,\n",
    "                        marker=dict(color='rgba(0,255,0,0)', line=dict(color='rgba(0,255,0,0)')), # setting 0 opacity so we don't see the lines\n",
    "                        hoverinfo='skip'),\n",
    "              row=idx+1,\n",
    "              col=1,\n",
    "          )\n",
    "\n",
    "          # #Add annotated text to the test set rectangle\n",
    "          # middle_index = round(len(test_as_of_times)/2)\n",
    "          # x_middle = test_as_of_times[middle_index].date() + convert_str_to_relativedelta(test_label_timespan)\n",
    "          # fig.add_trace(\n",
    "          #     go.Scatter(x =[x_middle], y=[y-1],\n",
    "          #               mode='text',\n",
    "          #               text=\"Test Data\",\n",
    "          #               marker=dict(color='rgba(0,255,0,0)', line=dict(color='rgba(0,255,0,0)')), # setting 0 opacity so we don't see the lines\n",
    "          #               hoverinfo='skip'),\n",
    "          #     row=idx+1,\n",
    "          #     col=1,\n",
    "          # )\n",
    "\n",
    "    fig.update_layout(height=500, width=900, showlegend=True)\n",
    "    fig.show()"
   ]
  },
  {
   "cell_type": "code",
   "execution_count": 34,
   "metadata": {},
   "outputs": [],
   "source": [
    "cfg = \"\"\"\n",
    "temporal_config:\n",
    "\n",
    "    # first date our feature data is good\n",
    "    feature_start_time: '2012-01-01'\n",
    "    feature_end_time: '2023-01-01'\n",
    "\n",
    "    # first date our label data is good\n",
    "    # donorschoose: as far back as we have good donation data\n",
    "    label_start_time: '2019-01-01'\n",
    "    label_end_time: '2023-01-01'\n",
    "\n",
    "    model_update_frequency: '3month'\n",
    "\n",
    "    # length of time defining a test set\n",
    "    test_durations: ['1month']\n",
    "    # defines how far back a training set reaches\n",
    "    max_training_histories: ['100year']\n",
    "\n",
    "    # we sample every day, since new projects are posted\n",
    "    # every day\n",
    "    training_as_of_date_frequencies: ['1month']\n",
    "    test_as_of_date_frequencies: ['1month']\n",
    "    \n",
    "    # like our project timeout\n",
    "    training_label_timespans: ['1year']\n",
    "    test_label_timespans: ['1year']\n",
    "\"\"\""
   ]
  },
  {
   "cell_type": "code",
   "execution_count": 35,
   "metadata": {},
   "outputs": [],
   "source": [
    "c = yaml.safe_load(cfg)"
   ]
  },
  {
   "cell_type": "code",
   "execution_count": 36,
   "metadata": {},
   "outputs": [],
   "source": [
    "chopper = Timechop(**c['temporal_config'])"
   ]
  },
  {
   "cell_type": "code",
   "execution_count": 37,
   "metadata": {},
   "outputs": [],
   "source": [
    "# artifically set the feature_start_time to the label_start_time to zoom in on the train/validation splits\n",
    "chopper.feature_start_time = chopper.label_start_time"
   ]
  },
  {
   "cell_type": "code",
   "execution_count": 38,
   "metadata": {
    "scrolled": true
   },
   "outputs": [
    {
     "data": {
      "image/png": "[encoded data removed]",
      "text/plain": [
       "<Figure size 3200x1600 with 8 Axes>"
      ]
     },
     "metadata": {},
     "output_type": "display_data"
    }
   ],
   "source": [
    "visualize_chops(chopper)"
   ]
  },
  {
   "cell_type": "code",
   "execution_count": 40,
   "metadata": {},
   "outputs": [
    {
     "data": {
      "application/vnd.plotly.v1+json": {
       "config": {
        "plotlyServerURL": "https://plot.ly"
       },
       "data": [
        {
         "hovertemplate": "%{x}<extra></extra>",
         "marker": {
          "color": "rgba(3, 37, 126, 1)"
         },
         "mode": "markers",
         "name": "Training as-of-date",
         "showlegend": true,
         "type": "scatter",
         "x": [
          "2019-01-01",
          "2019-02-01",
          "2019-03-01",
          "2019-04-01",
          "2019-05-01",
          "2019-06-01",
          "2019-07-01",
          "2019-08-01",
          "2019-09-01",
          "2019-10-01",
          "2019-11-01",
          "2019-12-01",
          "2020-01-01",
          "2020-02-01",
          "2020-03-01",
          "2020-04-01",
          "2020-05-01",
          "2020-06-01",
          "2020-07-01",
          "2020-08-01",
          "2020-09-01",
          "2020-10-01",
          "2020-11-01",
          "2020-12-01"
         ],
         "xaxis": "x",
         "y": [
          0,
          1,
          2,
          3,
          4,
          5,
          6,
          7,
          8,
          9,
          10,
          11,
          12,
          13,
          14,
          15,
          16,
          17,
          18,
          19,
          20,
          21,
          22,
          23
         ],
         "yaxis": "y"
        },
        {
         "hovertemplate": "%{x}<extra></extra>",
         "marker": {
          "color": "rgba(139, 0, 0, 1)"
         },
         "mode": "markers",
         "name": "Validation as-of-date",
         "showlegend": true,
         "type": "scatter",
         "x": [
          "2021-12-01T00:00:00"
         ],
         "xaxis": "x",
         "y": [
          0
         ],
         "yaxis": "y"
        },
        {
         "hovertemplate": "%{x}<extra></extra>",
         "marker": {
          "color": "rgba(3, 37, 126, 0.3)",
          "line": {
           "color": "rgba(3, 37, 126, 0.3)"
          }
         },
         "showlegend": false,
         "type": "scatter",
         "x": [
          "2019-01-01",
          "2020-01-01"
         ],
         "xaxis": "x",
         "y": [
          0,
          0
         ],
         "yaxis": "y"
        },
        {
         "hovertemplate": "%{x}<extra></extra>",
         "marker": {
          "color": "rgba(3, 37, 126, 0.3)",
          "line": {
           "color": "rgba(3, 37, 126, 0.3)"
          }
         },
         "showlegend": false,
         "type": "scatter",
         "x": [
          "2019-02-01",
          "2020-02-01"
         ],
         "xaxis": "x",
         "y": [
          1,
          1
         ],
         "yaxis": "y"
        },
        {
         "hovertemplate": "%{x}<extra></extra>",
         "marker": {
          "color": "rgba(3, 37, 126, 0.3)",
          "line": {
           "color": "rgba(3, 37, 126, 0.3)"
          }
         },
         "showlegend": false,
         "type": "scatter",
         "x": [
          "2019-03-01",
          "2020-03-01"
         ],
         "xaxis": "x",
         "y": [
          2,
          2
         ],
         "yaxis": "y"
        },
        {
         "hovertemplate": "%{x}<extra></extra>",
         "marker": {
          "color": "rgba(3, 37, 126, 0.3)",
          "line": {
           "color": "rgba(3, 37, 126, 0.3)"
          }
         },
         "showlegend": false,
         "type": "scatter",
         "x": [
          "2019-04-01",
          "2020-04-01"
         ],
         "xaxis": "x",
         "y": [
          3,
          3
         ],
         "yaxis": "y"
        },
        {
         "hovertemplate": "%{x}<extra></extra>",
         "marker": {
          "color": "rgba(3, 37, 126, 0.3)",
          "line": {
           "color": "rgba(3, 37, 126, 0.3)"
          }
         },
         "showlegend": false,
         "type": "scatter",
         "x": [
          "2019-05-01",
          "2020-05-01"
         ],
         "xaxis": "x",
         "y": [
          4,
          4
         ],
         "yaxis": "y"
        },
        {
         "hovertemplate": "%{x}<extra></extra>",
         "marker": {
          "color": "rgba(3, 37, 126, 0.3)",
          "line": {
           "color": "rgba(3, 37, 126, 0.3)"
          }
         },
         "showlegend": false,
         "type": "scatter",
         "x": [
          "2019-06-01",
          "2020-06-01"
         ],
         "xaxis": "x",
         "y": [
          5,
          5
         ],
         "yaxis": "y"
        },
        {
         "hovertemplate": "%{x}<extra></extra>",
         "marker": {
          "color": "rgba(3, 37, 126, 0.3)",
          "line": {
           "color": "rgba(3, 37, 126, 0.3)"
          }
         },
         "showlegend": false,
         "type": "scatter",
         "x": [
          "2019-07-01",
          "2020-07-01"
         ],
         "xaxis": "x",
         "y": [
          6,
          6
         ],
         "yaxis": "y"
        },
        {
         "hovertemplate": "%{x}<extra></extra>",
         "marker": {
          "color": "rgba(3, 37, 126, 0.3)",
          "line": {
           "color": "rgba(3, 37, 126, 0.3)"
          }
         },
         "showlegend": false,
         "type": "scatter",
         "x": [
          "2019-08-01",
          "2020-08-01"
         ],
         "xaxis": "x",
         "y": [
          7,
          7
         ],
         "yaxis": "y"
        },
        {
         "hovertemplate": "%{x}<extra></extra>",
         "marker": {
          "color": "rgba(3, 37, 126, 0.3)",
          "line": {
           "color": "rgba(3, 37, 126, 0.3)"
          }
         },
         "showlegend": false,
         "type": "scatter",
         "x": [
          "2019-09-01",
          "2020-09-01"
         ],
         "xaxis": "x",
         "y": [
          8,
          8
         ],
         "yaxis": "y"
        },
        {
         "hovertemplate": "%{x}<extra></extra>",
         "marker": {
          "color": "rgba(3, 37, 126, 0.3)",
          "line": {
           "color": "rgba(3, 37, 126, 0.3)"
          }
         },
         "showlegend": false,
         "type": "scatter",
         "x": [
          "2019-10-01",
          "2020-10-01"
         ],
         "xaxis": "x",
         "y": [
          9,
          9
         ],
         "yaxis": "y"
        },
        {
         "hovertemplate": "%{x}<extra></extra>",
         "marker": {
          "color": "rgba(3, 37, 126, 0.3)",
          "line": {
           "color": "rgba(3, 37, 126, 0.3)"
          }
         },
         "showlegend": false,
         "type": "scatter",
         "x": [
          "2019-11-01",
          "2020-11-01"
         ],
         "xaxis": "x",
         "y": [
          10,
          10
         ],
         "yaxis": "y"
        },
        {
         "hovertemplate": "%{x}<extra></extra>",
         "marker": {
          "color": "rgba(3, 37, 126, 0.3)",
          "line": {
           "color": "rgba(3, 37, 126, 0.3)"
          }
         },
         "showlegend": false,
         "type": "scatter",
         "x": [
          "2019-12-01",
          "2020-12-01"
         ],
         "xaxis": "x",
         "y": [
          11,
          11
         ],
         "yaxis": "y"
        },
        {
         "hovertemplate": "%{x}<extra></extra>",
         "marker": {
          "color": "rgba(3, 37, 126, 0.3)",
          "line": {
           "color": "rgba(3, 37, 126, 0.3)"
          }
         },
         "showlegend": false,
         "type": "scatter",
         "x": [
          "2020-01-01",
          "2021-01-01"
         ],
         "xaxis": "x",
         "y": [
          12,
          12
         ],
         "yaxis": "y"
        },
        {
         "hovertemplate": "%{x}<extra></extra>",
         "marker": {
          "color": "rgba(3, 37, 126, 0.3)",
          "line": {
           "color": "rgba(3, 37, 126, 0.3)"
          }
         },
         "showlegend": false,
         "type": "scatter",
         "x": [
          "2020-02-01",
          "2021-02-01"
         ],
         "xaxis": "x",
         "y": [
          13,
          13
         ],
         "yaxis": "y"
        },
        {
         "hovertemplate": "%{x}<extra></extra>",
         "marker": {
          "color": "rgba(3, 37, 126, 0.3)",
          "line": {
           "color": "rgba(3, 37, 126, 0.3)"
          }
         },
         "showlegend": false,
         "type": "scatter",
         "x": [
          "2020-03-01",
          "2021-03-01"
         ],
         "xaxis": "x",
         "y": [
          14,
          14
         ],
         "yaxis": "y"
        },
        {
         "hovertemplate": "%{x}<extra></extra>",
         "marker": {
          "color": "rgba(3, 37, 126, 0.3)",
          "line": {
           "color": "rgba(3, 37, 126, 0.3)"
          }
         },
         "showlegend": false,
         "type": "scatter",
         "x": [
          "2020-04-01",
          "2021-04-01"
         ],
         "xaxis": "x",
         "y": [
          15,
          15
         ],
         "yaxis": "y"
        },
        {
         "hovertemplate": "%{x}<extra></extra>",
         "marker": {
          "color": "rgba(3, 37, 126, 0.3)",
          "line": {
           "color": "rgba(3, 37, 126, 0.3)"
          }
         },
         "showlegend": false,
         "type": "scatter",
         "x": [
          "2020-05-01",
          "2021-05-01"
         ],
         "xaxis": "x",
         "y": [
          16,
          16
         ],
         "yaxis": "y"
        },
        {
         "hovertemplate": "%{x}<extra></extra>",
         "marker": {
          "color": "rgba(3, 37, 126, 0.3)",
          "line": {
           "color": "rgba(3, 37, 126, 0.3)"
          }
         },
         "showlegend": false,
         "type": "scatter",
         "x": [
          "2020-06-01",
          "2021-06-01"
         ],
         "xaxis": "x",
         "y": [
          17,
          17
         ],
         "yaxis": "y"
        },
        {
         "hovertemplate": "%{x}<extra></extra>",
         "marker": {
          "color": "rgba(3, 37, 126, 0.3)",
          "line": {
           "color": "rgba(3, 37, 126, 0.3)"
          }
         },
         "showlegend": false,
         "type": "scatter",
         "x": [
          "2020-07-01",
          "2021-07-01"
         ],
         "xaxis": "x",
         "y": [
          18,
          18
         ],
         "yaxis": "y"
        },
        {
         "hovertemplate": "%{x}<extra></extra>",
         "marker": {
          "color": "rgba(3, 37, 126, 0.3)",
          "line": {
           "color": "rgba(3, 37, 126, 0.3)"
          }
         },
         "showlegend": false,
         "type": "scatter",
         "x": [
          "2020-08-01",
          "2021-08-01"
         ],
         "xaxis": "x",
         "y": [
          19,
          19
         ],
         "yaxis": "y"
        },
        {
         "hovertemplate": "%{x}<extra></extra>",
         "marker": {
          "color": "rgba(3, 37, 126, 0.3)",
          "line": {
           "color": "rgba(3, 37, 126, 0.3)"
          }
         },
         "showlegend": false,
         "type": "scatter",
         "x": [
          "2020-09-01",
          "2021-09-01"
         ],
         "xaxis": "x",
         "y": [
          20,
          20
         ],
         "yaxis": "y"
        },
        {
         "hovertemplate": "%{x}<extra></extra>",
         "marker": {
          "color": "rgba(3, 37, 126, 0.3)",
          "line": {
           "color": "rgba(3, 37, 126, 0.3)"
          }
         },
         "showlegend": false,
         "type": "scatter",
         "x": [
          "2020-10-01",
          "2021-10-01"
         ],
         "xaxis": "x",
         "y": [
          21,
          21
         ],
         "yaxis": "y"
        },
        {
         "hovertemplate": "%{x}<extra></extra>",
         "marker": {
          "color": "rgba(3, 37, 126, 0.3)",
          "line": {
           "color": "rgba(3, 37, 126, 0.3)"
          }
         },
         "showlegend": false,
         "type": "scatter",
         "x": [
          "2020-11-01",
          "2021-11-01"
         ],
         "xaxis": "x",
         "y": [
          22,
          22
         ],
         "yaxis": "y"
        },
        {
         "hovertemplate": "%{x}<extra></extra>",
         "marker": {
          "color": "rgba(3, 37, 126, 0.3)",
          "line": {
           "color": "rgba(3, 37, 126, 0.3)"
          }
         },
         "showlegend": false,
         "type": "scatter",
         "x": [
          "2020-12-01",
          "2021-12-01"
         ],
         "xaxis": "x",
         "y": [
          23,
          23
         ],
         "yaxis": "y"
        },
        {
         "hovertemplate": "%{x}<extra></extra>",
         "marker": {
          "color": "rgba(139, 0, 0, 0.3)",
          "line": {
           "color": "rgba(139, 0, 0, 0.3)"
          }
         },
         "showlegend": false,
         "type": "scatter",
         "x": [
          "2021-12-01",
          "2022-12-01"
         ],
         "xaxis": "x",
         "y": [
          0,
          0
         ],
         "yaxis": "y"
        },
        {
         "fill": "toself",
         "fillcolor": "rgba(3, 37, 126, 0.15)",
         "hoverinfo": "skip",
         "marker": {
          "color": "rgba(0,255,0,0)",
          "line": {
           "color": "rgba(0,255,0,0)"
          }
         },
         "showlegend": false,
         "type": "scatter",
         "x": [
          "2019-01-01",
          "2019-01-01",
          "2021-12-01",
          "2021-12-01",
          "2019-01-01"
         ],
         "xaxis": "x",
         "y": [
          0,
          24,
          24,
          0,
          0
         ],
         "yaxis": "y"
        },
        {
         "fill": "toself",
         "fillcolor": "rgba(139, 0, 0, 0.15)",
         "hoverinfo": "skip",
         "marker": {
          "color": "rgba(0,255,0,0)",
          "line": {
           "color": "rgba(0,255,0,0)"
          }
         },
         "showlegend": false,
         "type": "scatter",
         "x": [
          "2021-12-01",
          "2021-12-01",
          "2022-12-01",
          "2022-12-01",
          "2021-12-01"
         ],
         "xaxis": "x",
         "y": [
          0,
          24,
          24,
          0,
          0
         ],
         "yaxis": "y"
        },
        {
         "hovertemplate": "%{x}<extra></extra>",
         "marker": {
          "color": "rgba(3, 37, 126, 1)"
         },
         "mode": "markers",
         "name": "Training as-of-date",
         "showlegend": false,
         "type": "scatter",
         "x": [
          "2019-01-01",
          "2019-02-01",
          "2019-03-01",
          "2019-04-01",
          "2019-05-01",
          "2019-06-01",
          "2019-07-01",
          "2019-08-01",
          "2019-09-01",
          "2019-10-01",
          "2019-11-01",
          "2019-12-01",
          "2020-01-01",
          "2020-02-01",
          "2020-03-01",
          "2020-04-01",
          "2020-05-01",
          "2020-06-01",
          "2020-07-01",
          "2020-08-01",
          "2020-09-01"
         ],
         "xaxis": "x2",
         "y": [
          0,
          1,
          2,
          3,
          4,
          5,
          6,
          7,
          8,
          9,
          10,
          11,
          12,
          13,
          14,
          15,
          16,
          17,
          18,
          19,
          20
         ],
         "yaxis": "y2"
        },
        {
         "hovertemplate": "%{x}<extra></extra>",
         "marker": {
          "color": "rgba(139, 0, 0, 1)"
         },
         "mode": "markers",
         "name": "Validation as-of-date",
         "showlegend": false,
         "type": "scatter",
         "x": [
          "2021-09-01T00:00:00"
         ],
         "xaxis": "x2",
         "y": [
          0
         ],
         "yaxis": "y2"
        },
        {
         "hovertemplate": "%{x}<extra></extra>",
         "marker": {
          "color": "rgba(3, 37, 126, 0.3)",
          "line": {
           "color": "rgba(3, 37, 126, 0.3)"
          }
         },
         "showlegend": false,
         "type": "scatter",
         "x": [
          "2019-01-01",
          "2020-01-01"
         ],
         "xaxis": "x2",
         "y": [
          0,
          0
         ],
         "yaxis": "y2"
        },
        {
         "hovertemplate": "%{x}<extra></extra>",
         "marker": {
          "color": "rgba(3, 37, 126, 0.3)",
          "line": {
           "color": "rgba(3, 37, 126, 0.3)"
          }
         },
         "showlegend": false,
         "type": "scatter",
         "x": [
          "2019-02-01",
          "2020-02-01"
         ],
         "xaxis": "x2",
         "y": [
          1,
          1
         ],
         "yaxis": "y2"
        },
        {
         "hovertemplate": "%{x}<extra></extra>",
         "marker": {
          "color": "rgba(3, 37, 126, 0.3)",
          "line": {
           "color": "rgba(3, 37, 126, 0.3)"
          }
         },
         "showlegend": false,
         "type": "scatter",
         "x": [
          "2019-03-01",
          "2020-03-01"
         ],
         "xaxis": "x2",
         "y": [
          2,
          2
         ],
         "yaxis": "y2"
        },
        {
         "hovertemplate": "%{x}<extra></extra>",
         "marker": {
          "color": "rgba(3, 37, 126, 0.3)",
          "line": {
           "color": "rgba(3, 37, 126, 0.3)"
          }
         },
         "showlegend": false,
         "type": "scatter",
         "x": [
          "2019-04-01",
          "2020-04-01"
         ],
         "xaxis": "x2",
         "y": [
          3,
          3
         ],
         "yaxis": "y2"
        },
        {
         "hovertemplate": "%{x}<extra></extra>",
         "marker": {
          "color": "rgba(3, 37, 126, 0.3)",
          "line": {
           "color": "rgba(3, 37, 126, 0.3)"
          }
         },
         "showlegend": false,
         "type": "scatter",
         "x": [
          "2019-05-01",
          "2020-05-01"
         ],
         "xaxis": "x2",
         "y": [
          4,
          4
         ],
         "yaxis": "y2"
        },
        {
         "hovertemplate": "%{x}<extra></extra>",
         "marker": {
          "color": "rgba(3, 37, 126, 0.3)",
          "line": {
           "color": "rgba(3, 37, 126, 0.3)"
          }
         },
         "showlegend": false,
         "type": "scatter",
         "x": [
          "2019-06-01",
          "2020-06-01"
         ],
         "xaxis": "x2",
         "y": [
          5,
          5
         ],
         "yaxis": "y2"
        },
        {
         "hovertemplate": "%{x}<extra></extra>",
         "marker": {
          "color": "rgba(3, 37, 126, 0.3)",
          "line": {
           "color": "rgba(3, 37, 126, 0.3)"
          }
         },
         "showlegend": false,
         "type": "scatter",
         "x": [
          "2019-07-01",
          "2020-07-01"
         ],
         "xaxis": "x2",
         "y": [
          6,
          6
         ],
         "yaxis": "y2"
        },
        {
         "hovertemplate": "%{x}<extra></extra>",
         "marker": {
          "color": "rgba(3, 37, 126, 0.3)",
          "line": {
           "color": "rgba(3, 37, 126, 0.3)"
          }
         },
         "showlegend": false,
         "type": "scatter",
         "x": [
          "2019-08-01",
          "2020-08-01"
         ],
         "xaxis": "x2",
         "y": [
          7,
          7
         ],
         "yaxis": "y2"
        },
        {
         "hovertemplate": "%{x}<extra></extra>",
         "marker": {
          "color": "rgba(3, 37, 126, 0.3)",
          "line": {
           "color": "rgba(3, 37, 126, 0.3)"
          }
         },
         "showlegend": false,
         "type": "scatter",
         "x": [
          "2019-09-01",
          "2020-09-01"
         ],
         "xaxis": "x2",
         "y": [
          8,
          8
         ],
         "yaxis": "y2"
        },
        {
         "hovertemplate": "%{x}<extra></extra>",
         "marker": {
          "color": "rgba(3, 37, 126, 0.3)",
          "line": {
           "color": "rgba(3, 37, 126, 0.3)"
          }
         },
         "showlegend": false,
         "type": "scatter",
         "x": [
          "2019-10-01",
          "2020-10-01"
         ],
         "xaxis": "x2",
         "y": [
          9,
          9
         ],
         "yaxis": "y2"
        },
        {
         "hovertemplate": "%{x}<extra></extra>",
         "marker": {
          "color": "rgba(3, 37, 126, 0.3)",
          "line": {
           "color": "rgba(3, 37, 126, 0.3)"
          }
         },
         "showlegend": false,
         "type": "scatter",
         "x": [
          "2019-11-01",
          "2020-11-01"
         ],
         "xaxis": "x2",
         "y": [
          10,
          10
         ],
         "yaxis": "y2"
        },
        {
         "hovertemplate": "%{x}<extra></extra>",
         "marker": {
          "color": "rgba(3, 37, 126, 0.3)",
          "line": {
           "color": "rgba(3, 37, 126, 0.3)"
          }
         },
         "showlegend": false,
         "type": "scatter",
         "x": [
          "2019-12-01",
          "2020-12-01"
         ],
         "xaxis": "x2",
         "y": [
          11,
          11
         ],
         "yaxis": "y2"
        },
        {
         "hovertemplate": "%{x}<extra></extra>",
         "marker": {
          "color": "rgba(3, 37, 126, 0.3)",
          "line": {
           "color": "rgba(3, 37, 126, 0.3)"
          }
         },
         "showlegend": false,
         "type": "scatter",
         "x": [
          "2020-01-01",
          "2021-01-01"
         ],
         "xaxis": "x2",
         "y": [
          12,
          12
         ],
         "yaxis": "y2"
        },
        {
         "hovertemplate": "%{x}<extra></extra>",
         "marker": {
          "color": "rgba(3, 37, 126, 0.3)",
          "line": {
           "color": "rgba(3, 37, 126, 0.3)"
          }
         },
         "showlegend": false,
         "type": "scatter",
         "x": [
          "2020-02-01",
          "2021-02-01"
         ],
         "xaxis": "x2",
         "y": [
          13,
          13
         ],
         "yaxis": "y2"
        },
        {
         "hovertemplate": "%{x}<extra></extra>",
         "marker": {
          "color": "rgba(3, 37, 126, 0.3)",
          "line": {
           "color": "rgba(3, 37, 126, 0.3)"
          }
         },
         "showlegend": false,
         "type": "scatter",
         "x": [
          "2020-03-01",
          "2021-03-01"
         ],
         "xaxis": "x2",
         "y": [
          14,
          14
         ],
         "yaxis": "y2"
        },
        {
         "hovertemplate": "%{x}<extra></extra>",
         "marker": {
          "color": "rgba(3, 37, 126, 0.3)",
          "line": {
           "color": "rgba(3, 37, 126, 0.3)"
          }
         },
         "showlegend": false,
         "type": "scatter",
         "x": [
          "2020-04-01",
          "2021-04-01"
         ],
         "xaxis": "x2",
         "y": [
          15,
          15
         ],
         "yaxis": "y2"
        },
        {
         "hovertemplate": "%{x}<extra></extra>",
         "marker": {
          "color": "rgba(3, 37, 126, 0.3)",
          "line": {
           "color": "rgba(3, 37, 126, 0.3)"
          }
         },
         "showlegend": false,
         "type": "scatter",
         "x": [
          "2020-05-01",
          "2021-05-01"
         ],
         "xaxis": "x2",
         "y": [
          16,
          16
         ],
         "yaxis": "y2"
        },
        {
         "hovertemplate": "%{x}<extra></extra>",
         "marker": {
          "color": "rgba(3, 37, 126, 0.3)",
          "line": {
           "color": "rgba(3, 37, 126, 0.3)"
          }
         },
         "showlegend": false,
         "type": "scatter",
         "x": [
          "2020-06-01",
          "2021-06-01"
         ],
         "xaxis": "x2",
         "y": [
          17,
          17
         ],
         "yaxis": "y2"
        },
        {
         "hovertemplate": "%{x}<extra></extra>",
         "marker": {
          "color": "rgba(3, 37, 126, 0.3)",
          "line": {
           "color": "rgba(3, 37, 126, 0.3)"
          }
         },
         "showlegend": false,
         "type": "scatter",
         "x": [
          "2020-07-01",
          "2021-07-01"
         ],
         "xaxis": "x2",
         "y": [
          18,
          18
         ],
         "yaxis": "y2"
        },
        {
         "hovertemplate": "%{x}<extra></extra>",
         "marker": {
          "color": "rgba(3, 37, 126, 0.3)",
          "line": {
           "color": "rgba(3, 37, 126, 0.3)"
          }
         },
         "showlegend": false,
         "type": "scatter",
         "x": [
          "2020-08-01",
          "2021-08-01"
         ],
         "xaxis": "x2",
         "y": [
          19,
          19
         ],
         "yaxis": "y2"
        },
        {
         "hovertemplate": "%{x}<extra></extra>",
         "marker": {
          "color": "rgba(3, 37, 126, 0.3)",
          "line": {
           "color": "rgba(3, 37, 126, 0.3)"
          }
         },
         "showlegend": false,
         "type": "scatter",
         "x": [
          "2020-09-01",
          "2021-09-01"
         ],
         "xaxis": "x2",
         "y": [
          20,
          20
         ],
         "yaxis": "y2"
        },
        {
         "hovertemplate": "%{x}<extra></extra>",
         "marker": {
          "color": "rgba(139, 0, 0, 0.3)",
          "line": {
           "color": "rgba(139, 0, 0, 0.3)"
          }
         },
         "showlegend": false,
         "type": "scatter",
         "x": [
          "2021-09-01",
          "2022-09-01"
         ],
         "xaxis": "x2",
         "y": [
          0,
          0
         ],
         "yaxis": "y2"
        },
        {
         "fill": "toself",
         "fillcolor": "rgba(3, 37, 126, 0.15)",
         "hoverinfo": "skip",
         "marker": {
          "color": "rgba(0,255,0,0)",
          "line": {
           "color": "rgba(0,255,0,0)"
          }
         },
         "showlegend": false,
         "type": "scatter",
         "x": [
          "2019-01-01",
          "2019-01-01",
          "2021-09-01",
          "2021-09-01",
          "2019-01-01"
         ],
         "xaxis": "x2",
         "y": [
          0,
          21,
          21,
          0,
          0
         ],
         "yaxis": "y2"
        },
        {
         "fill": "toself",
         "fillcolor": "rgba(139, 0, 0, 0.15)",
         "hoverinfo": "skip",
         "marker": {
          "color": "rgba(0,255,0,0)",
          "line": {
           "color": "rgba(0,255,0,0)"
          }
         },
         "showlegend": false,
         "type": "scatter",
         "x": [
          "2021-09-01",
          "2021-09-01",
          "2022-09-01",
          "2022-09-01",
          "2021-09-01"
         ],
         "xaxis": "x2",
         "y": [
          0,
          21,
          21,
          0,
          0
         ],
         "yaxis": "y2"
        },
        {
         "hovertemplate": "%{x}<extra></extra>",
         "marker": {
          "color": "rgba(3, 37, 126, 1)"
         },
         "mode": "markers",
         "name": "Training as-of-date",
         "showlegend": false,
         "type": "scatter",
         "x": [
          "2019-01-01",
          "2019-02-01",
          "2019-03-01",
          "2019-04-01",
          "2019-05-01",
          "2019-06-01",
          "2019-07-01",
          "2019-08-01",
          "2019-09-01",
          "2019-10-01",
          "2019-11-01",
          "2019-12-01",
          "2020-01-01",
          "2020-02-01",
          "2020-03-01",
          "2020-04-01",
          "2020-05-01",
          "2020-06-01"
         ],
         "xaxis": "x3",
         "y": [
          0,
          1,
          2,
          3,
          4,
          5,
          6,
          7,
          8,
          9,
          10,
          11,
          12,
          13,
          14,
          15,
          16,
          17
         ],
         "yaxis": "y3"
        },
        {
         "hovertemplate": "%{x}<extra></extra>",
         "marker": {
          "color": "rgba(139, 0, 0, 1)"
         },
         "mode": "markers",
         "name": "Validation as-of-date",
         "showlegend": false,
         "type": "scatter",
         "x": [
          "2021-06-01T00:00:00"
         ],
         "xaxis": "x3",
         "y": [
          0
         ],
         "yaxis": "y3"
        },
        {
         "hovertemplate": "%{x}<extra></extra>",
         "marker": {
          "color": "rgba(3, 37, 126, 0.3)",
          "line": {
           "color": "rgba(3, 37, 126, 0.3)"
          }
         },
         "showlegend": false,
         "type": "scatter",
         "x": [
          "2019-01-01",
          "2020-01-01"
         ],
         "xaxis": "x3",
         "y": [
          0,
          0
         ],
         "yaxis": "y3"
        },
        {
         "hovertemplate": "%{x}<extra></extra>",
         "marker": {
          "color": "rgba(3, 37, 126, 0.3)",
          "line": {
           "color": "rgba(3, 37, 126, 0.3)"
          }
         },
         "showlegend": false,
         "type": "scatter",
         "x": [
          "2019-02-01",
          "2020-02-01"
         ],
         "xaxis": "x3",
         "y": [
          1,
          1
         ],
         "yaxis": "y3"
        },
        {
         "hovertemplate": "%{x}<extra></extra>",
         "marker": {
          "color": "rgba(3, 37, 126, 0.3)",
          "line": {
           "color": "rgba(3, 37, 126, 0.3)"
          }
         },
         "showlegend": false,
         "type": "scatter",
         "x": [
          "2019-03-01",
          "2020-03-01"
         ],
         "xaxis": "x3",
         "y": [
          2,
          2
         ],
         "yaxis": "y3"
        },
        {
         "hovertemplate": "%{x}<extra></extra>",
         "marker": {
          "color": "rgba(3, 37, 126, 0.3)",
          "line": {
           "color": "rgba(3, 37, 126, 0.3)"
          }
         },
         "showlegend": false,
         "type": "scatter",
         "x": [
          "2019-04-01",
          "2020-04-01"
         ],
         "xaxis": "x3",
         "y": [
          3,
          3
         ],
         "yaxis": "y3"
        },
        {
         "hovertemplate": "%{x}<extra></extra>",
         "marker": {
          "color": "rgba(3, 37, 126, 0.3)",
          "line": {
           "color": "rgba(3, 37, 126, 0.3)"
          }
         },
         "showlegend": false,
         "type": "scatter",
         "x": [
          "2019-05-01",
          "2020-05-01"
         ],
         "xaxis": "x3",
         "y": [
          4,
          4
         ],
         "yaxis": "y3"
        },
        {
         "hovertemplate": "%{x}<extra></extra>",
         "marker": {
          "color": "rgba(3, 37, 126, 0.3)",
          "line": {
           "color": "rgba(3, 37, 126, 0.3)"
          }
         },
         "showlegend": false,
         "type": "scatter",
         "x": [
          "2019-06-01",
          "2020-06-01"
         ],
         "xaxis": "x3",
         "y": [
          5,
          5
         ],
         "yaxis": "y3"
        },
        {
         "hovertemplate": "%{x}<extra></extra>",
         "marker": {
          "color": "rgba(3, 37, 126, 0.3)",
          "line": {
           "color": "rgba(3, 37, 126, 0.3)"
          }
         },
         "showlegend": false,
         "type": "scatter",
         "x": [
          "2019-07-01",
          "2020-07-01"
         ],
         "xaxis": "x3",
         "y": [
          6,
          6
         ],
         "yaxis": "y3"
        },
        {
         "hovertemplate": "%{x}<extra></extra>",
         "marker": {
          "color": "rgba(3, 37, 126, 0.3)",
          "line": {
           "color": "rgba(3, 37, 126, 0.3)"
          }
         },
         "showlegend": false,
         "type": "scatter",
         "x": [
          "2019-08-01",
          "2020-08-01"
         ],
         "xaxis": "x3",
         "y": [
          7,
          7
         ],
         "yaxis": "y3"
        },
        {
         "hovertemplate": "%{x}<extra></extra>",
         "marker": {
          "color": "rgba(3, 37, 126, 0.3)",
          "line": {
           "color": "rgba(3, 37, 126, 0.3)"
          }
         },
         "showlegend": false,
         "type": "scatter",
         "x": [
          "2019-09-01",
          "2020-09-01"
         ],
         "xaxis": "x3",
         "y": [
          8,
          8
         ],
         "yaxis": "y3"
        },
        {
         "hovertemplate": "%{x}<extra></extra>",
         "marker": {
          "color": "rgba(3, 37, 126, 0.3)",
          "line": {
           "color": "rgba(3, 37, 126, 0.3)"
          }
         },
         "showlegend": false,
         "type": "scatter",
         "x": [
          "2019-10-01",
          "2020-10-01"
         ],
         "xaxis": "x3",
         "y": [
          9,
          9
         ],
         "yaxis": "y3"
        },
        {
         "hovertemplate": "%{x}<extra></extra>",
         "marker": {
          "color": "rgba(3, 37, 126, 0.3)",
          "line": {
           "color": "rgba(3, 37, 126, 0.3)"
          }
         },
         "showlegend": false,
         "type": "scatter",
         "x": [
          "2019-11-01",
          "2020-11-01"
         ],
         "xaxis": "x3",
         "y": [
          10,
          10
         ],
         "yaxis": "y3"
        },
        {
         "hovertemplate": "%{x}<extra></extra>",
         "marker": {
          "color": "rgba(3, 37, 126, 0.3)",
          "line": {
           "color": "rgba(3, 37, 126, 0.3)"
          }
         },
         "showlegend": false,
         "type": "scatter",
         "x": [
          "2019-12-01",
          "2020-12-01"
         ],
         "xaxis": "x3",
         "y": [
          11,
          11
         ],
         "yaxis": "y3"
        },
        {
         "hovertemplate": "%{x}<extra></extra>",
         "marker": {
          "color": "rgba(3, 37, 126, 0.3)",
          "line": {
           "color": "rgba(3, 37, 126, 0.3)"
          }
         },
         "showlegend": false,
         "type": "scatter",
         "x": [
          "2020-01-01",
          "2021-01-01"
         ],
         "xaxis": "x3",
         "y": [
          12,
          12
         ],
         "yaxis": "y3"
        },
        {
         "hovertemplate": "%{x}<extra></extra>",
         "marker": {
          "color": "rgba(3, 37, 126, 0.3)",
          "line": {
           "color": "rgba(3, 37, 126, 0.3)"
          }
         },
         "showlegend": false,
         "type": "scatter",
         "x": [
          "2020-02-01",
          "2021-02-01"
         ],
         "xaxis": "x3",
         "y": [
          13,
          13
         ],
         "yaxis": "y3"
        },
        {
         "hovertemplate": "%{x}<extra></extra>",
         "marker": {
          "color": "rgba(3, 37, 126, 0.3)",
          "line": {
           "color": "rgba(3, 37, 126, 0.3)"
          }
         },
         "showlegend": false,
         "type": "scatter",
         "x": [
          "2020-03-01",
          "2021-03-01"
         ],
         "xaxis": "x3",
         "y": [
          14,
          14
         ],
         "yaxis": "y3"
        },
        {
         "hovertemplate": "%{x}<extra></extra>",
         "marker": {
          "color": "rgba(3, 37, 126, 0.3)",
          "line": {
           "color": "rgba(3, 37, 126, 0.3)"
          }
         },
         "showlegend": false,
         "type": "scatter",
         "x": [
          "2020-04-01",
          "2021-04-01"
         ],
         "xaxis": "x3",
         "y": [
          15,
          15
         ],
         "yaxis": "y3"
        },
        {
         "hovertemplate": "%{x}<extra></extra>",
         "marker": {
          "color": "rgba(3, 37, 126, 0.3)",
          "line": {
           "color": "rgba(3, 37, 126, 0.3)"
          }
         },
         "showlegend": false,
         "type": "scatter",
         "x": [
          "2020-05-01",
          "2021-05-01"
         ],
         "xaxis": "x3",
         "y": [
          16,
          16
         ],
         "yaxis": "y3"
        },
        {
         "hovertemplate": "%{x}<extra></extra>",
         "marker": {
          "color": "rgba(3, 37, 126, 0.3)",
          "line": {
           "color": "rgba(3, 37, 126, 0.3)"
          }
         },
         "showlegend": false,
         "type": "scatter",
         "x": [
          "2020-06-01",
          "2021-06-01"
         ],
         "xaxis": "x3",
         "y": [
          17,
          17
         ],
         "yaxis": "y3"
        },
        {
         "hovertemplate": "%{x}<extra></extra>",
         "marker": {
          "color": "rgba(139, 0, 0, 0.3)",
          "line": {
           "color": "rgba(139, 0, 0, 0.3)"
          }
         },
         "showlegend": false,
         "type": "scatter",
         "x": [
          "2021-06-01",
          "2022-06-01"
         ],
         "xaxis": "x3",
         "y": [
          0,
          0
         ],
         "yaxis": "y3"
        },
        {
         "fill": "toself",
         "fillcolor": "rgba(3, 37, 126, 0.15)",
         "hoverinfo": "skip",
         "marker": {
          "color": "rgba(0,255,0,0)",
          "line": {
           "color": "rgba(0,255,0,0)"
          }
         },
         "showlegend": false,
         "type": "scatter",
         "x": [
          "2019-01-01",
          "2019-01-01",
          "2021-06-01",
          "2021-06-01",
          "2019-01-01"
         ],
         "xaxis": "x3",
         "y": [
          0,
          18,
          18,
          0,
          0
         ],
         "yaxis": "y3"
        },
        {
         "fill": "toself",
         "fillcolor": "rgba(139, 0, 0, 0.15)",
         "hoverinfo": "skip",
         "marker": {
          "color": "rgba(0,255,0,0)",
          "line": {
           "color": "rgba(0,255,0,0)"
          }
         },
         "showlegend": false,
         "type": "scatter",
         "x": [
          "2021-06-01",
          "2021-06-01",
          "2022-06-01",
          "2022-06-01",
          "2021-06-01"
         ],
         "xaxis": "x3",
         "y": [
          0,
          18,
          18,
          0,
          0
         ],
         "yaxis": "y3"
        }
       ],
       "layout": {
        "annotations": [
         {
          "font": {
           "size": 16
          },
          "showarrow": false,
          "text": "Train-Validation Split 1",
          "x": 0.5,
          "xanchor": "center",
          "xref": "paper",
          "y": 1,
          "yanchor": "bottom",
          "yref": "paper"
         },
         {
          "font": {
           "size": 16
          },
          "showarrow": false,
          "text": "Train-Validation Split 2",
          "x": 0.5,
          "xanchor": "center",
          "xref": "paper",
          "y": 0.6499999999999999,
          "yanchor": "bottom",
          "yref": "paper"
         },
         {
          "font": {
           "size": 16
          },
          "showarrow": false,
          "text": "Train-Validation Split 3",
          "x": 0.5,
          "xanchor": "center",
          "xref": "paper",
          "y": 0.3,
          "yanchor": "bottom",
          "yref": "paper"
         },
         {
          "showarrow": false,
          "text": "Test duration: 1month",
          "x": "2021-12-01T00:00:00",
          "y": -2
         },
         {
          "arrowhead": 1,
          "showarrow": true,
          "text": "Label timespan",
          "x": "2021-06-01",
          "xref": "x",
          "y": 23,
          "yref": "y"
         },
         {
          "arrowhead": 1,
          "showarrow": true,
          "text": "Label timespan",
          "x": "2022-06-01",
          "xref": "x",
          "y": 0,
          "yref": "y"
         }
        ],
        "height": 500,
        "shapes": [
         {
          "line": {
           "color": "green"
          },
          "type": "line",
          "x0": "2021-12-01T00:00:00",
          "x1": "2021-12-01T00:00:00",
          "xref": "x",
          "y0": -1,
          "y1": -1,
          "yref": "y"
         }
        ],
        "showlegend": true,
        "template": {
         "data": {
          "bar": [
           {
            "error_x": {
             "color": "#2a3f5f"
            },
            "error_y": {
             "color": "#2a3f5f"
            },
            "marker": {
             "line": {
              "color": "#E5ECF6",
              "width": 0.5
             },
             "pattern": {
              "fillmode": "overlay",
              "size": 10,
              "solidity": 0.2
             }
            },
            "type": "bar"
           }
          ],
          "barpolar": [
           {
            "marker": {
             "line": {
              "color": "#E5ECF6",
              "width": 0.5
             },
             "pattern": {
              "fillmode": "overlay",
              "size": 10,
              "solidity": 0.2
             }
            },
            "type": "barpolar"
           }
          ],
          "carpet": [
           {
            "aaxis": {
             "endlinecolor": "#2a3f5f",
             "gridcolor": "white",
             "linecolor": "white",
             "minorgridcolor": "white",
             "startlinecolor": "#2a3f5f"
            },
            "baxis": {
             "endlinecolor": "#2a3f5f",
             "gridcolor": "white",
             "linecolor": "white",
             "minorgridcolor": "white",
             "startlinecolor": "#2a3f5f"
            },
            "type": "carpet"
           }
          ],
          "choropleth": [
           {
            "colorbar": {
             "outlinewidth": 0,
             "ticks": ""
            },
            "type": "choropleth"
           }
          ],
          "contour": [
           {
            "colorbar": {
             "outlinewidth": 0,
             "ticks": ""
            },
            "colorscale": [
             [
              0,
              "#0d0887"
             ],
             [
              0.1111111111111111,
              "#46039f"
             ],
             [
              0.2222222222222222,
              "#7201a8"
             ],
             [
              0.3333333333333333,
              "#9c179e"
             ],
             [
              0.4444444444444444,
              "#bd3786"
             ],
             [
              0.5555555555555556,
              "#d8576b"
             ],
             [
              0.6666666666666666,
              "#ed7953"
             ],
             [
              0.7777777777777778,
              "#fb9f3a"
             ],
             [
              0.8888888888888888,
              "#fdca26"
             ],
             [
              1,
              "#f0f921"
             ]
            ],
            "type": "contour"
           }
          ],
          "contourcarpet": [
           {
            "colorbar": {
             "outlinewidth": 0,
             "ticks": ""
            },
            "type": "contourcarpet"
           }
          ],
          "heatmap": [
           {
            "colorbar": {
             "outlinewidth": 0,
             "ticks": ""
            },
            "colorscale": [
             [
              0,
              "#0d0887"
             ],
             [
              0.1111111111111111,
              "#46039f"
             ],
             [
              0.2222222222222222,
              "#7201a8"
             ],
             [
              0.3333333333333333,
              "#9c179e"
             ],
             [
              0.4444444444444444,
              "#bd3786"
             ],
             [
              0.5555555555555556,
              "#d8576b"
             ],
             [
              0.6666666666666666,
              "#ed7953"
             ],
             [
              0.7777777777777778,
              "#fb9f3a"
             ],
             [
              0.8888888888888888,
              "#fdca26"
             ],
             [
              1,
              "#f0f921"
             ]
            ],
            "type": "heatmap"
           }
          ],
          "heatmapgl": [
           {
            "colorbar": {
             "outlinewidth": 0,
             "ticks": ""
            },
            "colorscale": [
             [
              0,
              "#0d0887"
             ],
             [
              0.1111111111111111,
              "#46039f"
             ],
             [
              0.2222222222222222,
              "#7201a8"
             ],
             [
              0.3333333333333333,
              "#9c179e"
             ],
             [
              0.4444444444444444,
              "#bd3786"
             ],
             [
              0.5555555555555556,
              "#d8576b"
             ],
             [
              0.6666666666666666,
              "#ed7953"
             ],
             [
              0.7777777777777778,
              "#fb9f3a"
             ],
             [
              0.8888888888888888,
              "#fdca26"
             ],
             [
              1,
              "#f0f921"
             ]
            ],
            "type": "heatmapgl"
           }
          ],
          "histogram": [
           {
            "marker": {
             "pattern": {
              "fillmode": "overlay",
              "size": 10,
              "solidity": 0.2
             }
            },
            "type": "histogram"
           }
          ],
          "histogram2d": [
           {
            "colorbar": {
             "outlinewidth": 0,
             "ticks": ""
            },
            "colorscale": [
             [
              0,
              "#0d0887"
             ],
             [
              0.1111111111111111,
              "#46039f"
             ],
             [
              0.2222222222222222,
              "#7201a8"
             ],
             [
              0.3333333333333333,
              "#9c179e"
             ],
             [
              0.4444444444444444,
              "#bd3786"
             ],
             [
              0.5555555555555556,
              "#d8576b"
             ],
             [
              0.6666666666666666,
              "#ed7953"
             ],
             [
              0.7777777777777778,
              "#fb9f3a"
             ],
             [
              0.8888888888888888,
              "#fdca26"
             ],
             [
              1,
              "#f0f921"
             ]
            ],
            "type": "histogram2d"
           }
          ],
          "histogram2dcontour": [
           {
            "colorbar": {
             "outlinewidth": 0,
             "ticks": ""
            },
            "colorscale": [
             [
              0,
              "#0d0887"
             ],
             [
              0.1111111111111111,
              "#46039f"
             ],
             [
              0.2222222222222222,
              "#7201a8"
             ],
             [
              0.3333333333333333,
              "#9c179e"
             ],
             [
              0.4444444444444444,
              "#bd3786"
             ],
             [
              0.5555555555555556,
              "#d8576b"
             ],
             [
              0.6666666666666666,
              "#ed7953"
             ],
             [
              0.7777777777777778,
              "#fb9f3a"
             ],
             [
              0.8888888888888888,
              "#fdca26"
             ],
             [
              1,
              "#f0f921"
             ]
            ],
            "type": "histogram2dcontour"
           }
          ],
          "mesh3d": [
           {
            "colorbar": {
             "outlinewidth": 0,
             "ticks": ""
            },
            "type": "mesh3d"
           }
          ],
          "parcoords": [
           {
            "line": {
             "colorbar": {
              "outlinewidth": 0,
              "ticks": ""
             }
            },
            "type": "parcoords"
           }
          ],
          "pie": [
           {
            "automargin": true,
            "type": "pie"
           }
          ],
          "scatter": [
           {
            "fillpattern": {
             "fillmode": "overlay",
             "size": 10,
             "solidity": 0.2
            },
            "type": "scatter"
           }
          ],
          "scatter3d": [
           {
            "line": {
             "colorbar": {
              "outlinewidth": 0,
              "ticks": ""
             }
            },
            "marker": {
             "colorbar": {
              "outlinewidth": 0,
              "ticks": ""
             }
            },
            "type": "scatter3d"
           }
          ],
          "scattercarpet": [
           {
            "marker": {
             "colorbar": {
              "outlinewidth": 0,
              "ticks": ""
             }
            },
            "type": "scattercarpet"
           }
          ],
          "scattergeo": [
           {
            "marker": {
             "colorbar": {
              "outlinewidth": 0,
              "ticks": ""
             }
            },
            "type": "scattergeo"
           }
          ],
          "scattergl": [
           {
            "marker": {
             "colorbar": {
              "outlinewidth": 0,
              "ticks": ""
             }
            },
            "type": "scattergl"
           }
          ],
          "scattermapbox": [
           {
            "marker": {
             "colorbar": {
              "outlinewidth": 0,
              "ticks": ""
             }
            },
            "type": "scattermapbox"
           }
          ],
          "scatterpolar": [
           {
            "marker": {
             "colorbar": {
              "outlinewidth": 0,
              "ticks": ""
             }
            },
            "type": "scatterpolar"
           }
          ],
          "scatterpolargl": [
           {
            "marker": {
             "colorbar": {
              "outlinewidth": 0,
              "ticks": ""
             }
            },
            "type": "scatterpolargl"
           }
          ],
          "scatterternary": [
           {
            "marker": {
             "colorbar": {
              "outlinewidth": 0,
              "ticks": ""
             }
            },
            "type": "scatterternary"
           }
          ],
          "surface": [
           {
            "colorbar": {
             "outlinewidth": 0,
             "ticks": ""
            },
            "colorscale": [
             [
              0,
              "#0d0887"
             ],
             [
              0.1111111111111111,
              "#46039f"
             ],
             [
              0.2222222222222222,
              "#7201a8"
             ],
             [
              0.3333333333333333,
              "#9c179e"
             ],
             [
              0.4444444444444444,
              "#bd3786"
             ],
             [
              0.5555555555555556,
              "#d8576b"
             ],
             [
              0.6666666666666666,
              "#ed7953"
             ],
             [
              0.7777777777777778,
              "#fb9f3a"
             ],
             [
              0.8888888888888888,
              "#fdca26"
             ],
             [
              1,
              "#f0f921"
             ]
            ],
            "type": "surface"
           }
          ],
          "table": [
           {
            "cells": {
             "fill": {
              "color": "#EBF0F8"
             },
             "line": {
              "color": "white"
             }
            },
            "header": {
             "fill": {
              "color": "#C8D4E3"
             },
             "line": {
              "color": "white"
             }
            },
            "type": "table"
           }
          ]
         },
         "layout": {
          "annotationdefaults": {
           "arrowcolor": "#2a3f5f",
           "arrowhead": 0,
           "arrowwidth": 1
          },
          "autotypenumbers": "strict",
          "coloraxis": {
           "colorbar": {
            "outlinewidth": 0,
            "ticks": ""
           }
          },
          "colorscale": {
           "diverging": [
            [
             0,
             "#8e0152"
            ],
            [
             0.1,
             "#c51b7d"
            ],
            [
             0.2,
             "#de77ae"
            ],
            [
             0.3,
             "#f1b6da"
            ],
            [
             0.4,
             "#fde0ef"
            ],
            [
             0.5,
             "#f7f7f7"
            ],
            [
             0.6,
             "#e6f5d0"
            ],
            [
             0.7,
             "#b8e186"
            ],
            [
             0.8,
             "#7fbc41"
            ],
            [
             0.9,
             "#4d9221"
            ],
            [
             1,
             "#276419"
            ]
           ],
           "sequential": [
            [
             0,
             "#0d0887"
            ],
            [
             0.1111111111111111,
             "#46039f"
            ],
            [
             0.2222222222222222,
             "#7201a8"
            ],
            [
             0.3333333333333333,
             "#9c179e"
            ],
            [
             0.4444444444444444,
             "#bd3786"
            ],
            [
             0.5555555555555556,
             "#d8576b"
            ],
            [
             0.6666666666666666,
             "#ed7953"
            ],
            [
             0.7777777777777778,
             "#fb9f3a"
            ],
            [
             0.8888888888888888,
             "#fdca26"
            ],
            [
             1,
             "#f0f921"
            ]
           ],
           "sequentialminus": [
            [
             0,
             "#0d0887"
            ],
            [
             0.1111111111111111,
             "#46039f"
            ],
            [
             0.2222222222222222,
             "#7201a8"
            ],
            [
             0.3333333333333333,
             "#9c179e"
            ],
            [
             0.4444444444444444,
             "#bd3786"
            ],
            [
             0.5555555555555556,
             "#d8576b"
            ],
            [
             0.6666666666666666,
             "#ed7953"
            ],
            [
             0.7777777777777778,
             "#fb9f3a"
            ],
            [
             0.8888888888888888,
             "#fdca26"
            ],
            [
             1,
             "#f0f921"
            ]
           ]
          },
          "colorway": [
           "#636efa",
           "#EF553B",
           "#00cc96",
           "#ab63fa",
           "#FFA15A",
           "#19d3f3",
           "#FF6692",
           "#B6E880",
           "#FF97FF",
           "#FECB52"
          ],
          "font": {
           "color": "#2a3f5f"
          },
          "geo": {
           "bgcolor": "white",
           "lakecolor": "white",
           "landcolor": "#E5ECF6",
           "showlakes": true,
           "showland": true,
           "subunitcolor": "white"
          },
          "hoverlabel": {
           "align": "left"
          },
          "hovermode": "closest",
          "mapbox": {
           "style": "light"
          },
          "paper_bgcolor": "white",
          "plot_bgcolor": "#E5ECF6",
          "polar": {
           "angularaxis": {
            "gridcolor": "white",
            "linecolor": "white",
            "ticks": ""
           },
           "bgcolor": "#E5ECF6",
           "radialaxis": {
            "gridcolor": "white",
            "linecolor": "white",
            "ticks": ""
           }
          },
          "scene": {
           "xaxis": {
            "backgroundcolor": "#E5ECF6",
            "gridcolor": "white",
            "gridwidth": 2,
            "linecolor": "white",
            "showbackground": true,
            "ticks": "",
            "zerolinecolor": "white"
           },
           "yaxis": {
            "backgroundcolor": "#E5ECF6",
            "gridcolor": "white",
            "gridwidth": 2,
            "linecolor": "white",
            "showbackground": true,
            "ticks": "",
            "zerolinecolor": "white"
           },
           "zaxis": {
            "backgroundcolor": "#E5ECF6",
            "gridcolor": "white",
            "gridwidth": 2,
            "linecolor": "white",
            "showbackground": true,
            "ticks": "",
            "zerolinecolor": "white"
           }
          },
          "shapedefaults": {
           "line": {
            "color": "#2a3f5f"
           }
          },
          "ternary": {
           "aaxis": {
            "gridcolor": "white",
            "linecolor": "white",
            "ticks": ""
           },
           "baxis": {
            "gridcolor": "white",
            "linecolor": "white",
            "ticks": ""
           },
           "bgcolor": "#E5ECF6",
           "caxis": {
            "gridcolor": "white",
            "linecolor": "white",
            "ticks": ""
           }
          },
          "title": {
           "x": 0.05
          },
          "xaxis": {
           "automargin": true,
           "gridcolor": "white",
           "linecolor": "white",
           "ticks": "",
           "title": {
            "standoff": 15
           },
           "zerolinecolor": "white",
           "zerolinewidth": 2
          },
          "yaxis": {
           "automargin": true,
           "gridcolor": "white",
           "linecolor": "white",
           "ticks": "",
           "title": {
            "standoff": 15
           },
           "zerolinecolor": "white",
           "zerolinewidth": 2
          }
         }
        },
        "width": 900,
        "xaxis": {
         "anchor": "y",
         "domain": [
          0,
          1
         ],
         "matches": "x3",
         "showticklabels": false
        },
        "xaxis2": {
         "anchor": "y2",
         "domain": [
          0,
          1
         ],
         "matches": "x3",
         "showticklabels": false
        },
        "xaxis3": {
         "anchor": "y3",
         "domain": [
          0,
          1
         ]
        },
        "yaxis": {
         "anchor": "x",
         "domain": [
          0.7,
          1
         ]
        },
        "yaxis2": {
         "anchor": "x2",
         "domain": [
          0.35,
          0.6499999999999999
         ]
        },
        "yaxis3": {
         "anchor": "x3",
         "domain": [
          0,
          0.3
         ]
        }
       }
      },
      "text/html": [
       "<div>                            <div id=\"a5ffcf1b-0697-487d-8a59-111024da6e67\" class=\"plotly-graph-div\" style=\"height:500px; width:900px;\"></div>            <script type=\"text/javascript\">                require([\"plotly\"], function(Plotly) {                    window.PLOTLYENV=window.PLOTLYENV || {};                                    if (document.getElementById(\"a5ffcf1b-0697-487d-8a59-111024da6e67\")) {                    Plotly.newPlot(                        \"a5ffcf1b-0697-487d-8a59-111024da6e67\",                        [{\"hovertemplate\":\"%{x}\\u003cextra\\u003e\\u003c\\u002fextra\\u003e\",\"marker\":{\"color\":\"rgba(3, 37, 126, 1)\"},\"mode\":\"markers\",\"name\":\"Training as-of-date\",\"showlegend\":true,\"x\":[\"2019-01-01\",\"2019-02-01\",\"2019-03-01\",\"2019-04-01\",\"2019-05-01\",\"2019-06-01\",\"2019-07-01\",\"2019-08-01\",\"2019-09-01\",\"2019-10-01\",\"2019-11-01\",\"2019-12-01\",\"2020-01-01\",\"2020-02-01\",\"2020-03-01\",\"2020-04-01\",\"2020-05-01\",\"2020-06-01\",\"2020-07-01\",\"2020-08-01\",\"2020-09-01\",\"2020-10-01\",\"2020-11-01\",\"2020-12-01\"],\"y\":[0,1,2,3,4,5,6,7,8,9,10,11,12,13,14,15,16,17,18,19,20,21,22,23],\"type\":\"scatter\",\"xaxis\":\"x\",\"yaxis\":\"y\"},{\"hovertemplate\":\"%{x}\\u003cextra\\u003e\\u003c\\u002fextra\\u003e\",\"marker\":{\"color\":\"rgba(139, 0, 0, 1)\"},\"mode\":\"markers\",\"name\":\"Validation as-of-date\",\"showlegend\":true,\"x\":[\"2021-12-01T00:00:00\"],\"y\":[0],\"type\":\"scatter\",\"xaxis\":\"x\",\"yaxis\":\"y\"},{\"hovertemplate\":\"%{x}\\u003cextra\\u003e\\u003c\\u002fextra\\u003e\",\"marker\":{\"color\":\"rgba(3, 37, 126, 0.3)\",\"line\":{\"color\":\"rgba(3, 37, 126, 0.3)\"}},\"showlegend\":false,\"x\":[\"2019-01-01\",\"2020-01-01\"],\"y\":[0,0],\"type\":\"scatter\",\"xaxis\":\"x\",\"yaxis\":\"y\"},{\"hovertemplate\":\"%{x}\\u003cextra\\u003e\\u003c\\u002fextra\\u003e\",\"marker\":{\"color\":\"rgba(3, 37, 126, 0.3)\",\"line\":{\"color\":\"rgba(3, 37, 126, 0.3)\"}},\"showlegend\":false,\"x\":[\"2019-02-01\",\"2020-02-01\"],\"y\":[1,1],\"type\":\"scatter\",\"xaxis\":\"x\",\"yaxis\":\"y\"},{\"hovertemplate\":\"%{x}\\u003cextra\\u003e\\u003c\\u002fextra\\u003e\",\"marker\":{\"color\":\"rgba(3, 37, 126, 0.3)\",\"line\":{\"color\":\"rgba(3, 37, 126, 0.3)\"}},\"showlegend\":false,\"x\":[\"2019-03-01\",\"2020-03-01\"],\"y\":[2,2],\"type\":\"scatter\",\"xaxis\":\"x\",\"yaxis\":\"y\"},{\"hovertemplate\":\"%{x}\\u003cextra\\u003e\\u003c\\u002fextra\\u003e\",\"marker\":{\"color\":\"rgba(3, 37, 126, 0.3)\",\"line\":{\"color\":\"rgba(3, 37, 126, 0.3)\"}},\"showlegend\":false,\"x\":[\"2019-04-01\",\"2020-04-01\"],\"y\":[3,3],\"type\":\"scatter\",\"xaxis\":\"x\",\"yaxis\":\"y\"},{\"hovertemplate\":\"%{x}\\u003cextra\\u003e\\u003c\\u002fextra\\u003e\",\"marker\":{\"color\":\"rgba(3, 37, 126, 0.3)\",\"line\":{\"color\":\"rgba(3, 37, 126, 0.3)\"}},\"showlegend\":false,\"x\":[\"2019-05-01\",\"2020-05-01\"],\"y\":[4,4],\"type\":\"scatter\",\"xaxis\":\"x\",\"yaxis\":\"y\"},{\"hovertemplate\":\"%{x}\\u003cextra\\u003e\\u003c\\u002fextra\\u003e\",\"marker\":{\"color\":\"rgba(3, 37, 126, 0.3)\",\"line\":{\"color\":\"rgba(3, 37, 126, 0.3)\"}},\"showlegend\":false,\"x\":[\"2019-06-01\",\"2020-06-01\"],\"y\":[5,5],\"type\":\"scatter\",\"xaxis\":\"x\",\"yaxis\":\"y\"},{\"hovertemplate\":\"%{x}\\u003cextra\\u003e\\u003c\\u002fextra\\u003e\",\"marker\":{\"color\":\"rgba(3, 37, 126, 0.3)\",\"line\":{\"color\":\"rgba(3, 37, 126, 0.3)\"}},\"showlegend\":false,\"x\":[\"2019-07-01\",\"2020-07-01\"],\"y\":[6,6],\"type\":\"scatter\",\"xaxis\":\"x\",\"yaxis\":\"y\"},{\"hovertemplate\":\"%{x}\\u003cextra\\u003e\\u003c\\u002fextra\\u003e\",\"marker\":{\"color\":\"rgba(3, 37, 126, 0.3)\",\"line\":{\"color\":\"rgba(3, 37, 126, 0.3)\"}},\"showlegend\":false,\"x\":[\"2019-08-01\",\"2020-08-01\"],\"y\":[7,7],\"type\":\"scatter\",\"xaxis\":\"x\",\"yaxis\":\"y\"},{\"hovertemplate\":\"%{x}\\u003cextra\\u003e\\u003c\\u002fextra\\u003e\",\"marker\":{\"color\":\"rgba(3, 37, 126, 0.3)\",\"line\":{\"color\":\"rgba(3, 37, 126, 0.3)\"}},\"showlegend\":false,\"x\":[\"2019-09-01\",\"2020-09-01\"],\"y\":[8,8],\"type\":\"scatter\",\"xaxis\":\"x\",\"yaxis\":\"y\"},{\"hovertemplate\":\"%{x}\\u003cextra\\u003e\\u003c\\u002fextra\\u003e\",\"marker\":{\"color\":\"rgba(3, 37, 126, 0.3)\",\"line\":{\"color\":\"rgba(3, 37, 126, 0.3)\"}},\"showlegend\":false,\"x\":[\"2019-10-01\",\"2020-10-01\"],\"y\":[9,9],\"type\":\"scatter\",\"xaxis\":\"x\",\"yaxis\":\"y\"},{\"hovertemplate\":\"%{x}\\u003cextra\\u003e\\u003c\\u002fextra\\u003e\",\"marker\":{\"color\":\"rgba(3, 37, 126, 0.3)\",\"line\":{\"color\":\"rgba(3, 37, 126, 0.3)\"}},\"showlegend\":false,\"x\":[\"2019-11-01\",\"2020-11-01\"],\"y\":[10,10],\"type\":\"scatter\",\"xaxis\":\"x\",\"yaxis\":\"y\"},{\"hovertemplate\":\"%{x}\\u003cextra\\u003e\\u003c\\u002fextra\\u003e\",\"marker\":{\"color\":\"rgba(3, 37, 126, 0.3)\",\"line\":{\"color\":\"rgba(3, 37, 126, 0.3)\"}},\"showlegend\":false,\"x\":[\"2019-12-01\",\"2020-12-01\"],\"y\":[11,11],\"type\":\"scatter\",\"xaxis\":\"x\",\"yaxis\":\"y\"},{\"hovertemplate\":\"%{x}\\u003cextra\\u003e\\u003c\\u002fextra\\u003e\",\"marker\":{\"color\":\"rgba(3, 37, 126, 0.3)\",\"line\":{\"color\":\"rgba(3, 37, 126, 0.3)\"}},\"showlegend\":false,\"x\":[\"2020-01-01\",\"2021-01-01\"],\"y\":[12,12],\"type\":\"scatter\",\"xaxis\":\"x\",\"yaxis\":\"y\"},{\"hovertemplate\":\"%{x}\\u003cextra\\u003e\\u003c\\u002fextra\\u003e\",\"marker\":{\"color\":\"rgba(3, 37, 126, 0.3)\",\"line\":{\"color\":\"rgba(3, 37, 126, 0.3)\"}},\"showlegend\":false,\"x\":[\"2020-02-01\",\"2021-02-01\"],\"y\":[13,13],\"type\":\"scatter\",\"xaxis\":\"x\",\"yaxis\":\"y\"},{\"hovertemplate\":\"%{x}\\u003cextra\\u003e\\u003c\\u002fextra\\u003e\",\"marker\":{\"color\":\"rgba(3, 37, 126, 0.3)\",\"line\":{\"color\":\"rgba(3, 37, 126, 0.3)\"}},\"showlegend\":false,\"x\":[\"2020-03-01\",\"2021-03-01\"],\"y\":[14,14],\"type\":\"scatter\",\"xaxis\":\"x\",\"yaxis\":\"y\"},{\"hovertemplate\":\"%{x}\\u003cextra\\u003e\\u003c\\u002fextra\\u003e\",\"marker\":{\"color\":\"rgba(3, 37, 126, 0.3)\",\"line\":{\"color\":\"rgba(3, 37, 126, 0.3)\"}},\"showlegend\":false,\"x\":[\"2020-04-01\",\"2021-04-01\"],\"y\":[15,15],\"type\":\"scatter\",\"xaxis\":\"x\",\"yaxis\":\"y\"},{\"hovertemplate\":\"%{x}\\u003cextra\\u003e\\u003c\\u002fextra\\u003e\",\"marker\":{\"color\":\"rgba(3, 37, 126, 0.3)\",\"line\":{\"color\":\"rgba(3, 37, 126, 0.3)\"}},\"showlegend\":false,\"x\":[\"2020-05-01\",\"2021-05-01\"],\"y\":[16,16],\"type\":\"scatter\",\"xaxis\":\"x\",\"yaxis\":\"y\"},{\"hovertemplate\":\"%{x}\\u003cextra\\u003e\\u003c\\u002fextra\\u003e\",\"marker\":{\"color\":\"rgba(3, 37, 126, 0.3)\",\"line\":{\"color\":\"rgba(3, 37, 126, 0.3)\"}},\"showlegend\":false,\"x\":[\"2020-06-01\",\"2021-06-01\"],\"y\":[17,17],\"type\":\"scatter\",\"xaxis\":\"x\",\"yaxis\":\"y\"},{\"hovertemplate\":\"%{x}\\u003cextra\\u003e\\u003c\\u002fextra\\u003e\",\"marker\":{\"color\":\"rgba(3, 37, 126, 0.3)\",\"line\":{\"color\":\"rgba(3, 37, 126, 0.3)\"}},\"showlegend\":false,\"x\":[\"2020-07-01\",\"2021-07-01\"],\"y\":[18,18],\"type\":\"scatter\",\"xaxis\":\"x\",\"yaxis\":\"y\"},{\"hovertemplate\":\"%{x}\\u003cextra\\u003e\\u003c\\u002fextra\\u003e\",\"marker\":{\"color\":\"rgba(3, 37, 126, 0.3)\",\"line\":{\"color\":\"rgba(3, 37, 126, 0.3)\"}},\"showlegend\":false,\"x\":[\"2020-08-01\",\"2021-08-01\"],\"y\":[19,19],\"type\":\"scatter\",\"xaxis\":\"x\",\"yaxis\":\"y\"},{\"hovertemplate\":\"%{x}\\u003cextra\\u003e\\u003c\\u002fextra\\u003e\",\"marker\":{\"color\":\"rgba(3, 37, 126, 0.3)\",\"line\":{\"color\":\"rgba(3, 37, 126, 0.3)\"}},\"showlegend\":false,\"x\":[\"2020-09-01\",\"2021-09-01\"],\"y\":[20,20],\"type\":\"scatter\",\"xaxis\":\"x\",\"yaxis\":\"y\"},{\"hovertemplate\":\"%{x}\\u003cextra\\u003e\\u003c\\u002fextra\\u003e\",\"marker\":{\"color\":\"rgba(3, 37, 126, 0.3)\",\"line\":{\"color\":\"rgba(3, 37, 126, 0.3)\"}},\"showlegend\":false,\"x\":[\"2020-10-01\",\"2021-10-01\"],\"y\":[21,21],\"type\":\"scatter\",\"xaxis\":\"x\",\"yaxis\":\"y\"},{\"hovertemplate\":\"%{x}\\u003cextra\\u003e\\u003c\\u002fextra\\u003e\",\"marker\":{\"color\":\"rgba(3, 37, 126, 0.3)\",\"line\":{\"color\":\"rgba(3, 37, 126, 0.3)\"}},\"showlegend\":false,\"x\":[\"2020-11-01\",\"2021-11-01\"],\"y\":[22,22],\"type\":\"scatter\",\"xaxis\":\"x\",\"yaxis\":\"y\"},{\"hovertemplate\":\"%{x}\\u003cextra\\u003e\\u003c\\u002fextra\\u003e\",\"marker\":{\"color\":\"rgba(3, 37, 126, 0.3)\",\"line\":{\"color\":\"rgba(3, 37, 126, 0.3)\"}},\"showlegend\":false,\"x\":[\"2020-12-01\",\"2021-12-01\"],\"y\":[23,23],\"type\":\"scatter\",\"xaxis\":\"x\",\"yaxis\":\"y\"},{\"hovertemplate\":\"%{x}\\u003cextra\\u003e\\u003c\\u002fextra\\u003e\",\"marker\":{\"color\":\"rgba(139, 0, 0, 0.3)\",\"line\":{\"color\":\"rgba(139, 0, 0, 0.3)\"}},\"showlegend\":false,\"x\":[\"2021-12-01\",\"2022-12-01\"],\"y\":[0,0],\"type\":\"scatter\",\"xaxis\":\"x\",\"yaxis\":\"y\"},{\"fill\":\"toself\",\"fillcolor\":\"rgba(3, 37, 126, 0.15)\",\"hoverinfo\":\"skip\",\"marker\":{\"color\":\"rgba(0,255,0,0)\",\"line\":{\"color\":\"rgba(0,255,0,0)\"}},\"showlegend\":false,\"x\":[\"2019-01-01\",\"2019-01-01\",\"2021-12-01\",\"2021-12-01\",\"2019-01-01\"],\"y\":[0,24,24,0,0],\"type\":\"scatter\",\"xaxis\":\"x\",\"yaxis\":\"y\"},{\"fill\":\"toself\",\"fillcolor\":\"rgba(139, 0, 0, 0.15)\",\"hoverinfo\":\"skip\",\"marker\":{\"color\":\"rgba(0,255,0,0)\",\"line\":{\"color\":\"rgba(0,255,0,0)\"}},\"showlegend\":false,\"x\":[\"2021-12-01\",\"2021-12-01\",\"2022-12-01\",\"2022-12-01\",\"2021-12-01\"],\"y\":[0,24,24,0,0],\"type\":\"scatter\",\"xaxis\":\"x\",\"yaxis\":\"y\"},{\"hovertemplate\":\"%{x}\\u003cextra\\u003e\\u003c\\u002fextra\\u003e\",\"marker\":{\"color\":\"rgba(3, 37, 126, 1)\"},\"mode\":\"markers\",\"name\":\"Training as-of-date\",\"showlegend\":false,\"x\":[\"2019-01-01\",\"2019-02-01\",\"2019-03-01\",\"2019-04-01\",\"2019-05-01\",\"2019-06-01\",\"2019-07-01\",\"2019-08-01\",\"2019-09-01\",\"2019-10-01\",\"2019-11-01\",\"2019-12-01\",\"2020-01-01\",\"2020-02-01\",\"2020-03-01\",\"2020-04-01\",\"2020-05-01\",\"2020-06-01\",\"2020-07-01\",\"2020-08-01\",\"2020-09-01\"],\"y\":[0,1,2,3,4,5,6,7,8,9,10,11,12,13,14,15,16,17,18,19,20],\"type\":\"scatter\",\"xaxis\":\"x2\",\"yaxis\":\"y2\"},{\"hovertemplate\":\"%{x}\\u003cextra\\u003e\\u003c\\u002fextra\\u003e\",\"marker\":{\"color\":\"rgba(139, 0, 0, 1)\"},\"mode\":\"markers\",\"name\":\"Validation as-of-date\",\"showlegend\":false,\"x\":[\"2021-09-01T00:00:00\"],\"y\":[0],\"type\":\"scatter\",\"xaxis\":\"x2\",\"yaxis\":\"y2\"},{\"hovertemplate\":\"%{x}\\u003cextra\\u003e\\u003c\\u002fextra\\u003e\",\"marker\":{\"color\":\"rgba(3, 37, 126, 0.3)\",\"line\":{\"color\":\"rgba(3, 37, 126, 0.3)\"}},\"showlegend\":false,\"x\":[\"2019-01-01\",\"2020-01-01\"],\"y\":[0,0],\"type\":\"scatter\",\"xaxis\":\"x2\",\"yaxis\":\"y2\"},{\"hovertemplate\":\"%{x}\\u003cextra\\u003e\\u003c\\u002fextra\\u003e\",\"marker\":{\"color\":\"rgba(3, 37, 126, 0.3)\",\"line\":{\"color\":\"rgba(3, 37, 126, 0.3)\"}},\"showlegend\":false,\"x\":[\"2019-02-01\",\"2020-02-01\"],\"y\":[1,1],\"type\":\"scatter\",\"xaxis\":\"x2\",\"yaxis\":\"y2\"},{\"hovertemplate\":\"%{x}\\u003cextra\\u003e\\u003c\\u002fextra\\u003e\",\"marker\":{\"color\":\"rgba(3, 37, 126, 0.3)\",\"line\":{\"color\":\"rgba(3, 37, 126, 0.3)\"}},\"showlegend\":false,\"x\":[\"2019-03-01\",\"2020-03-01\"],\"y\":[2,2],\"type\":\"scatter\",\"xaxis\":\"x2\",\"yaxis\":\"y2\"},{\"hovertemplate\":\"%{x}\\u003cextra\\u003e\\u003c\\u002fextra\\u003e\",\"marker\":{\"color\":\"rgba(3, 37, 126, 0.3)\",\"line\":{\"color\":\"rgba(3, 37, 126, 0.3)\"}},\"showlegend\":false,\"x\":[\"2019-04-01\",\"2020-04-01\"],\"y\":[3,3],\"type\":\"scatter\",\"xaxis\":\"x2\",\"yaxis\":\"y2\"},{\"hovertemplate\":\"%{x}\\u003cextra\\u003e\\u003c\\u002fextra\\u003e\",\"marker\":{\"color\":\"rgba(3, 37, 126, 0.3)\",\"line\":{\"color\":\"rgba(3, 37, 126, 0.3)\"}},\"showlegend\":false,\"x\":[\"2019-05-01\",\"2020-05-01\"],\"y\":[4,4],\"type\":\"scatter\",\"xaxis\":\"x2\",\"yaxis\":\"y2\"},{\"hovertemplate\":\"%{x}\\u003cextra\\u003e\\u003c\\u002fextra\\u003e\",\"marker\":{\"color\":\"rgba(3, 37, 126, 0.3)\",\"line\":{\"color\":\"rgba(3, 37, 126, 0.3)\"}},\"showlegend\":false,\"x\":[\"2019-06-01\",\"2020-06-01\"],\"y\":[5,5],\"type\":\"scatter\",\"xaxis\":\"x2\",\"yaxis\":\"y2\"},{\"hovertemplate\":\"%{x}\\u003cextra\\u003e\\u003c\\u002fextra\\u003e\",\"marker\":{\"color\":\"rgba(3, 37, 126, 0.3)\",\"line\":{\"color\":\"rgba(3, 37, 126, 0.3)\"}},\"showlegend\":false,\"x\":[\"2019-07-01\",\"2020-07-01\"],\"y\":[6,6],\"type\":\"scatter\",\"xaxis\":\"x2\",\"yaxis\":\"y2\"},{\"hovertemplate\":\"%{x}\\u003cextra\\u003e\\u003c\\u002fextra\\u003e\",\"marker\":{\"color\":\"rgba(3, 37, 126, 0.3)\",\"line\":{\"color\":\"rgba(3, 37, 126, 0.3)\"}},\"showlegend\":false,\"x\":[\"2019-08-01\",\"2020-08-01\"],\"y\":[7,7],\"type\":\"scatter\",\"xaxis\":\"x2\",\"yaxis\":\"y2\"},{\"hovertemplate\":\"%{x}\\u003cextra\\u003e\\u003c\\u002fextra\\u003e\",\"marker\":{\"color\":\"rgba(3, 37, 126, 0.3)\",\"line\":{\"color\":\"rgba(3, 37, 126, 0.3)\"}},\"showlegend\":false,\"x\":[\"2019-09-01\",\"2020-09-01\"],\"y\":[8,8],\"type\":\"scatter\",\"xaxis\":\"x2\",\"yaxis\":\"y2\"},{\"hovertemplate\":\"%{x}\\u003cextra\\u003e\\u003c\\u002fextra\\u003e\",\"marker\":{\"color\":\"rgba(3, 37, 126, 0.3)\",\"line\":{\"color\":\"rgba(3, 37, 126, 0.3)\"}},\"showlegend\":false,\"x\":[\"2019-10-01\",\"2020-10-01\"],\"y\":[9,9],\"type\":\"scatter\",\"xaxis\":\"x2\",\"yaxis\":\"y2\"},{\"hovertemplate\":\"%{x}\\u003cextra\\u003e\\u003c\\u002fextra\\u003e\",\"marker\":{\"color\":\"rgba(3, 37, 126, 0.3)\",\"line\":{\"color\":\"rgba(3, 37, 126, 0.3)\"}},\"showlegend\":false,\"x\":[\"2019-11-01\",\"2020-11-01\"],\"y\":[10,10],\"type\":\"scatter\",\"xaxis\":\"x2\",\"yaxis\":\"y2\"},{\"hovertemplate\":\"%{x}\\u003cextra\\u003e\\u003c\\u002fextra\\u003e\",\"marker\":{\"color\":\"rgba(3, 37, 126, 0.3)\",\"line\":{\"color\":\"rgba(3, 37, 126, 0.3)\"}},\"showlegend\":false,\"x\":[\"2019-12-01\",\"2020-12-01\"],\"y\":[11,11],\"type\":\"scatter\",\"xaxis\":\"x2\",\"yaxis\":\"y2\"},{\"hovertemplate\":\"%{x}\\u003cextra\\u003e\\u003c\\u002fextra\\u003e\",\"marker\":{\"color\":\"rgba(3, 37, 126, 0.3)\",\"line\":{\"color\":\"rgba(3, 37, 126, 0.3)\"}},\"showlegend\":false,\"x\":[\"2020-01-01\",\"2021-01-01\"],\"y\":[12,12],\"type\":\"scatter\",\"xaxis\":\"x2\",\"yaxis\":\"y2\"},{\"hovertemplate\":\"%{x}\\u003cextra\\u003e\\u003c\\u002fextra\\u003e\",\"marker\":{\"color\":\"rgba(3, 37, 126, 0.3)\",\"line\":{\"color\":\"rgba(3, 37, 126, 0.3)\"}},\"showlegend\":false,\"x\":[\"2020-02-01\",\"2021-02-01\"],\"y\":[13,13],\"type\":\"scatter\",\"xaxis\":\"x2\",\"yaxis\":\"y2\"},{\"hovertemplate\":\"%{x}\\u003cextra\\u003e\\u003c\\u002fextra\\u003e\",\"marker\":{\"color\":\"rgba(3, 37, 126, 0.3)\",\"line\":{\"color\":\"rgba(3, 37, 126, 0.3)\"}},\"showlegend\":false,\"x\":[\"2020-03-01\",\"2021-03-01\"],\"y\":[14,14],\"type\":\"scatter\",\"xaxis\":\"x2\",\"yaxis\":\"y2\"},{\"hovertemplate\":\"%{x}\\u003cextra\\u003e\\u003c\\u002fextra\\u003e\",\"marker\":{\"color\":\"rgba(3, 37, 126, 0.3)\",\"line\":{\"color\":\"rgba(3, 37, 126, 0.3)\"}},\"showlegend\":false,\"x\":[\"2020-04-01\",\"2021-04-01\"],\"y\":[15,15],\"type\":\"scatter\",\"xaxis\":\"x2\",\"yaxis\":\"y2\"},{\"hovertemplate\":\"%{x}\\u003cextra\\u003e\\u003c\\u002fextra\\u003e\",\"marker\":{\"color\":\"rgba(3, 37, 126, 0.3)\",\"line\":{\"color\":\"rgba(3, 37, 126, 0.3)\"}},\"showlegend\":false,\"x\":[\"2020-05-01\",\"2021-05-01\"],\"y\":[16,16],\"type\":\"scatter\",\"xaxis\":\"x2\",\"yaxis\":\"y2\"},{\"hovertemplate\":\"%{x}\\u003cextra\\u003e\\u003c\\u002fextra\\u003e\",\"marker\":{\"color\":\"rgba(3, 37, 126, 0.3)\",\"line\":{\"color\":\"rgba(3, 37, 126, 0.3)\"}},\"showlegend\":false,\"x\":[\"2020-06-01\",\"2021-06-01\"],\"y\":[17,17],\"type\":\"scatter\",\"xaxis\":\"x2\",\"yaxis\":\"y2\"},{\"hovertemplate\":\"%{x}\\u003cextra\\u003e\\u003c\\u002fextra\\u003e\",\"marker\":{\"color\":\"rgba(3, 37, 126, 0.3)\",\"line\":{\"color\":\"rgba(3, 37, 126, 0.3)\"}},\"showlegend\":false,\"x\":[\"2020-07-01\",\"2021-07-01\"],\"y\":[18,18],\"type\":\"scatter\",\"xaxis\":\"x2\",\"yaxis\":\"y2\"},{\"hovertemplate\":\"%{x}\\u003cextra\\u003e\\u003c\\u002fextra\\u003e\",\"marker\":{\"color\":\"rgba(3, 37, 126, 0.3)\",\"line\":{\"color\":\"rgba(3, 37, 126, 0.3)\"}},\"showlegend\":false,\"x\":[\"2020-08-01\",\"2021-08-01\"],\"y\":[19,19],\"type\":\"scatter\",\"xaxis\":\"x2\",\"yaxis\":\"y2\"},{\"hovertemplate\":\"%{x}\\u003cextra\\u003e\\u003c\\u002fextra\\u003e\",\"marker\":{\"color\":\"rgba(3, 37, 126, 0.3)\",\"line\":{\"color\":\"rgba(3, 37, 126, 0.3)\"}},\"showlegend\":false,\"x\":[\"2020-09-01\",\"2021-09-01\"],\"y\":[20,20],\"type\":\"scatter\",\"xaxis\":\"x2\",\"yaxis\":\"y2\"},{\"hovertemplate\":\"%{x}\\u003cextra\\u003e\\u003c\\u002fextra\\u003e\",\"marker\":{\"color\":\"rgba(139, 0, 0, 0.3)\",\"line\":{\"color\":\"rgba(139, 0, 0, 0.3)\"}},\"showlegend\":false,\"x\":[\"2021-09-01\",\"2022-09-01\"],\"y\":[0,0],\"type\":\"scatter\",\"xaxis\":\"x2\",\"yaxis\":\"y2\"},{\"fill\":\"toself\",\"fillcolor\":\"rgba(3, 37, 126, 0.15)\",\"hoverinfo\":\"skip\",\"marker\":{\"color\":\"rgba(0,255,0,0)\",\"line\":{\"color\":\"rgba(0,255,0,0)\"}},\"showlegend\":false,\"x\":[\"2019-01-01\",\"2019-01-01\",\"2021-09-01\",\"2021-09-01\",\"2019-01-01\"],\"y\":[0,21,21,0,0],\"type\":\"scatter\",\"xaxis\":\"x2\",\"yaxis\":\"y2\"},{\"fill\":\"toself\",\"fillcolor\":\"rgba(139, 0, 0, 0.15)\",\"hoverinfo\":\"skip\",\"marker\":{\"color\":\"rgba(0,255,0,0)\",\"line\":{\"color\":\"rgba(0,255,0,0)\"}},\"showlegend\":false,\"x\":[\"2021-09-01\",\"2021-09-01\",\"2022-09-01\",\"2022-09-01\",\"2021-09-01\"],\"y\":[0,21,21,0,0],\"type\":\"scatter\",\"xaxis\":\"x2\",\"yaxis\":\"y2\"},{\"hovertemplate\":\"%{x}\\u003cextra\\u003e\\u003c\\u002fextra\\u003e\",\"marker\":{\"color\":\"rgba(3, 37, 126, 1)\"},\"mode\":\"markers\",\"name\":\"Training as-of-date\",\"showlegend\":false,\"x\":[\"2019-01-01\",\"2019-02-01\",\"2019-03-01\",\"2019-04-01\",\"2019-05-01\",\"2019-06-01\",\"2019-07-01\",\"2019-08-01\",\"2019-09-01\",\"2019-10-01\",\"2019-11-01\",\"2019-12-01\",\"2020-01-01\",\"2020-02-01\",\"2020-03-01\",\"2020-04-01\",\"2020-05-01\",\"2020-06-01\"],\"y\":[0,1,2,3,4,5,6,7,8,9,10,11,12,13,14,15,16,17],\"type\":\"scatter\",\"xaxis\":\"x3\",\"yaxis\":\"y3\"},{\"hovertemplate\":\"%{x}\\u003cextra\\u003e\\u003c\\u002fextra\\u003e\",\"marker\":{\"color\":\"rgba(139, 0, 0, 1)\"},\"mode\":\"markers\",\"name\":\"Validation as-of-date\",\"showlegend\":false,\"x\":[\"2021-06-01T00:00:00\"],\"y\":[0],\"type\":\"scatter\",\"xaxis\":\"x3\",\"yaxis\":\"y3\"},{\"hovertemplate\":\"%{x}\\u003cextra\\u003e\\u003c\\u002fextra\\u003e\",\"marker\":{\"color\":\"rgba(3, 37, 126, 0.3)\",\"line\":{\"color\":\"rgba(3, 37, 126, 0.3)\"}},\"showlegend\":false,\"x\":[\"2019-01-01\",\"2020-01-01\"],\"y\":[0,0],\"type\":\"scatter\",\"xaxis\":\"x3\",\"yaxis\":\"y3\"},{\"hovertemplate\":\"%{x}\\u003cextra\\u003e\\u003c\\u002fextra\\u003e\",\"marker\":{\"color\":\"rgba(3, 37, 126, 0.3)\",\"line\":{\"color\":\"rgba(3, 37, 126, 0.3)\"}},\"showlegend\":false,\"x\":[\"2019-02-01\",\"2020-02-01\"],\"y\":[1,1],\"type\":\"scatter\",\"xaxis\":\"x3\",\"yaxis\":\"y3\"},{\"hovertemplate\":\"%{x}\\u003cextra\\u003e\\u003c\\u002fextra\\u003e\",\"marker\":{\"color\":\"rgba(3, 37, 126, 0.3)\",\"line\":{\"color\":\"rgba(3, 37, 126, 0.3)\"}},\"showlegend\":false,\"x\":[\"2019-03-01\",\"2020-03-01\"],\"y\":[2,2],\"type\":\"scatter\",\"xaxis\":\"x3\",\"yaxis\":\"y3\"},{\"hovertemplate\":\"%{x}\\u003cextra\\u003e\\u003c\\u002fextra\\u003e\",\"marker\":{\"color\":\"rgba(3, 37, 126, 0.3)\",\"line\":{\"color\":\"rgba(3, 37, 126, 0.3)\"}},\"showlegend\":false,\"x\":[\"2019-04-01\",\"2020-04-01\"],\"y\":[3,3],\"type\":\"scatter\",\"xaxis\":\"x3\",\"yaxis\":\"y3\"},{\"hovertemplate\":\"%{x}\\u003cextra\\u003e\\u003c\\u002fextra\\u003e\",\"marker\":{\"color\":\"rgba(3, 37, 126, 0.3)\",\"line\":{\"color\":\"rgba(3, 37, 126, 0.3)\"}},\"showlegend\":false,\"x\":[\"2019-05-01\",\"2020-05-01\"],\"y\":[4,4],\"type\":\"scatter\",\"xaxis\":\"x3\",\"yaxis\":\"y3\"},{\"hovertemplate\":\"%{x}\\u003cextra\\u003e\\u003c\\u002fextra\\u003e\",\"marker\":{\"color\":\"rgba(3, 37, 126, 0.3)\",\"line\":{\"color\":\"rgba(3, 37, 126, 0.3)\"}},\"showlegend\":false,\"x\":[\"2019-06-01\",\"2020-06-01\"],\"y\":[5,5],\"type\":\"scatter\",\"xaxis\":\"x3\",\"yaxis\":\"y3\"},{\"hovertemplate\":\"%{x}\\u003cextra\\u003e\\u003c\\u002fextra\\u003e\",\"marker\":{\"color\":\"rgba(3, 37, 126, 0.3)\",\"line\":{\"color\":\"rgba(3, 37, 126, 0.3)\"}},\"showlegend\":false,\"x\":[\"2019-07-01\",\"2020-07-01\"],\"y\":[6,6],\"type\":\"scatter\",\"xaxis\":\"x3\",\"yaxis\":\"y3\"},{\"hovertemplate\":\"%{x}\\u003cextra\\u003e\\u003c\\u002fextra\\u003e\",\"marker\":{\"color\":\"rgba(3, 37, 126, 0.3)\",\"line\":{\"color\":\"rgba(3, 37, 126, 0.3)\"}},\"showlegend\":false,\"x\":[\"2019-08-01\",\"2020-08-01\"],\"y\":[7,7],\"type\":\"scatter\",\"xaxis\":\"x3\",\"yaxis\":\"y3\"},{\"hovertemplate\":\"%{x}\\u003cextra\\u003e\\u003c\\u002fextra\\u003e\",\"marker\":{\"color\":\"rgba(3, 37, 126, 0.3)\",\"line\":{\"color\":\"rgba(3, 37, 126, 0.3)\"}},\"showlegend\":false,\"x\":[\"2019-09-01\",\"2020-09-01\"],\"y\":[8,8],\"type\":\"scatter\",\"xaxis\":\"x3\",\"yaxis\":\"y3\"},{\"hovertemplate\":\"%{x}\\u003cextra\\u003e\\u003c\\u002fextra\\u003e\",\"marker\":{\"color\":\"rgba(3, 37, 126, 0.3)\",\"line\":{\"color\":\"rgba(3, 37, 126, 0.3)\"}},\"showlegend\":false,\"x\":[\"2019-10-01\",\"2020-10-01\"],\"y\":[9,9],\"type\":\"scatter\",\"xaxis\":\"x3\",\"yaxis\":\"y3\"},{\"hovertemplate\":\"%{x}\\u003cextra\\u003e\\u003c\\u002fextra\\u003e\",\"marker\":{\"color\":\"rgba(3, 37, 126, 0.3)\",\"line\":{\"color\":\"rgba(3, 37, 126, 0.3)\"}},\"showlegend\":false,\"x\":[\"2019-11-01\",\"2020-11-01\"],\"y\":[10,10],\"type\":\"scatter\",\"xaxis\":\"x3\",\"yaxis\":\"y3\"},{\"hovertemplate\":\"%{x}\\u003cextra\\u003e\\u003c\\u002fextra\\u003e\",\"marker\":{\"color\":\"rgba(3, 37, 126, 0.3)\",\"line\":{\"color\":\"rgba(3, 37, 126, 0.3)\"}},\"showlegend\":false,\"x\":[\"2019-12-01\",\"2020-12-01\"],\"y\":[11,11],\"type\":\"scatter\",\"xaxis\":\"x3\",\"yaxis\":\"y3\"},{\"hovertemplate\":\"%{x}\\u003cextra\\u003e\\u003c\\u002fextra\\u003e\",\"marker\":{\"color\":\"rgba(3, 37, 126, 0.3)\",\"line\":{\"color\":\"rgba(3, 37, 126, 0.3)\"}},\"showlegend\":false,\"x\":[\"2020-01-01\",\"2021-01-01\"],\"y\":[12,12],\"type\":\"scatter\",\"xaxis\":\"x3\",\"yaxis\":\"y3\"},{\"hovertemplate\":\"%{x}\\u003cextra\\u003e\\u003c\\u002fextra\\u003e\",\"marker\":{\"color\":\"rgba(3, 37, 126, 0.3)\",\"line\":{\"color\":\"rgba(3, 37, 126, 0.3)\"}},\"showlegend\":false,\"x\":[\"2020-02-01\",\"2021-02-01\"],\"y\":[13,13],\"type\":\"scatter\",\"xaxis\":\"x3\",\"yaxis\":\"y3\"},{\"hovertemplate\":\"%{x}\\u003cextra\\u003e\\u003c\\u002fextra\\u003e\",\"marker\":{\"color\":\"rgba(3, 37, 126, 0.3)\",\"line\":{\"color\":\"rgba(3, 37, 126, 0.3)\"}},\"showlegend\":false,\"x\":[\"2020-03-01\",\"2021-03-01\"],\"y\":[14,14],\"type\":\"scatter\",\"xaxis\":\"x3\",\"yaxis\":\"y3\"},{\"hovertemplate\":\"%{x}\\u003cextra\\u003e\\u003c\\u002fextra\\u003e\",\"marker\":{\"color\":\"rgba(3, 37, 126, 0.3)\",\"line\":{\"color\":\"rgba(3, 37, 126, 0.3)\"}},\"showlegend\":false,\"x\":[\"2020-04-01\",\"2021-04-01\"],\"y\":[15,15],\"type\":\"scatter\",\"xaxis\":\"x3\",\"yaxis\":\"y3\"},{\"hovertemplate\":\"%{x}\\u003cextra\\u003e\\u003c\\u002fextra\\u003e\",\"marker\":{\"color\":\"rgba(3, 37, 126, 0.3)\",\"line\":{\"color\":\"rgba(3, 37, 126, 0.3)\"}},\"showlegend\":false,\"x\":[\"2020-05-01\",\"2021-05-01\"],\"y\":[16,16],\"type\":\"scatter\",\"xaxis\":\"x3\",\"yaxis\":\"y3\"},{\"hovertemplate\":\"%{x}\\u003cextra\\u003e\\u003c\\u002fextra\\u003e\",\"marker\":{\"color\":\"rgba(3, 37, 126, 0.3)\",\"line\":{\"color\":\"rgba(3, 37, 126, 0.3)\"}},\"showlegend\":false,\"x\":[\"2020-06-01\",\"2021-06-01\"],\"y\":[17,17],\"type\":\"scatter\",\"xaxis\":\"x3\",\"yaxis\":\"y3\"},{\"hovertemplate\":\"%{x}\\u003cextra\\u003e\\u003c\\u002fextra\\u003e\",\"marker\":{\"color\":\"rgba(139, 0, 0, 0.3)\",\"line\":{\"color\":\"rgba(139, 0, 0, 0.3)\"}},\"showlegend\":false,\"x\":[\"2021-06-01\",\"2022-06-01\"],\"y\":[0,0],\"type\":\"scatter\",\"xaxis\":\"x3\",\"yaxis\":\"y3\"},{\"fill\":\"toself\",\"fillcolor\":\"rgba(3, 37, 126, 0.15)\",\"hoverinfo\":\"skip\",\"marker\":{\"color\":\"rgba(0,255,0,0)\",\"line\":{\"color\":\"rgba(0,255,0,0)\"}},\"showlegend\":false,\"x\":[\"2019-01-01\",\"2019-01-01\",\"2021-06-01\",\"2021-06-01\",\"2019-01-01\"],\"y\":[0,18,18,0,0],\"type\":\"scatter\",\"xaxis\":\"x3\",\"yaxis\":\"y3\"},{\"fill\":\"toself\",\"fillcolor\":\"rgba(139, 0, 0, 0.15)\",\"hoverinfo\":\"skip\",\"marker\":{\"color\":\"rgba(0,255,0,0)\",\"line\":{\"color\":\"rgba(0,255,0,0)\"}},\"showlegend\":false,\"x\":[\"2021-06-01\",\"2021-06-01\",\"2022-06-01\",\"2022-06-01\",\"2021-06-01\"],\"y\":[0,18,18,0,0],\"type\":\"scatter\",\"xaxis\":\"x3\",\"yaxis\":\"y3\"}],                        {\"template\":{\"data\":{\"histogram2dcontour\":[{\"type\":\"histogram2dcontour\",\"colorbar\":{\"outlinewidth\":0,\"ticks\":\"\"},\"colorscale\":[[0.0,\"#0d0887\"],[0.1111111111111111,\"#46039f\"],[0.2222222222222222,\"#7201a8\"],[0.3333333333333333,\"#9c179e\"],[0.4444444444444444,\"#bd3786\"],[0.5555555555555556,\"#d8576b\"],[0.6666666666666666,\"#ed7953\"],[0.7777777777777778,\"#fb9f3a\"],[0.8888888888888888,\"#fdca26\"],[1.0,\"#f0f921\"]]}],\"choropleth\":[{\"type\":\"choropleth\",\"colorbar\":{\"outlinewidth\":0,\"ticks\":\"\"}}],\"histogram2d\":[{\"type\":\"histogram2d\",\"colorbar\":{\"outlinewidth\":0,\"ticks\":\"\"},\"colorscale\":[[0.0,\"#0d0887\"],[0.1111111111111111,\"#46039f\"],[0.2222222222222222,\"#7201a8\"],[0.3333333333333333,\"#9c179e\"],[0.4444444444444444,\"#bd3786\"],[0.5555555555555556,\"#d8576b\"],[0.6666666666666666,\"#ed7953\"],[0.7777777777777778,\"#fb9f3a\"],[0.8888888888888888,\"#fdca26\"],[1.0,\"#f0f921\"]]}],\"heatmap\":[{\"type\":\"heatmap\",\"colorbar\":{\"outlinewidth\":0,\"ticks\":\"\"},\"colorscale\":[[0.0,\"#0d0887\"],[0.1111111111111111,\"#46039f\"],[0.2222222222222222,\"#7201a8\"],[0.3333333333333333,\"#9c179e\"],[0.4444444444444444,\"#bd3786\"],[0.5555555555555556,\"#d8576b\"],[0.6666666666666666,\"#ed7953\"],[0.7777777777777778,\"#fb9f3a\"],[0.8888888888888888,\"#fdca26\"],[1.0,\"#f0f921\"]]}],\"heatmapgl\":[{\"type\":\"heatmapgl\",\"colorbar\":{\"outlinewidth\":0,\"ticks\":\"\"},\"colorscale\":[[0.0,\"#0d0887\"],[0.1111111111111111,\"#46039f\"],[0.2222222222222222,\"#7201a8\"],[0.3333333333333333,\"#9c179e\"],[0.4444444444444444,\"#bd3786\"],[0.5555555555555556,\"#d8576b\"],[0.6666666666666666,\"#ed7953\"],[0.7777777777777778,\"#fb9f3a\"],[0.8888888888888888,\"#fdca26\"],[1.0,\"#f0f921\"]]}],\"contourcarpet\":[{\"type\":\"contourcarpet\",\"colorbar\":{\"outlinewidth\":0,\"ticks\":\"\"}}],\"contour\":[{\"type\":\"contour\",\"colorbar\":{\"outlinewidth\":0,\"ticks\":\"\"},\"colorscale\":[[0.0,\"#0d0887\"],[0.1111111111111111,\"#46039f\"],[0.2222222222222222,\"#7201a8\"],[0.3333333333333333,\"#9c179e\"],[0.4444444444444444,\"#bd3786\"],[0.5555555555555556,\"#d8576b\"],[0.6666666666666666,\"#ed7953\"],[0.7777777777777778,\"#fb9f3a\"],[0.8888888888888888,\"#fdca26\"],[1.0,\"#f0f921\"]]}],\"surface\":[{\"type\":\"surface\",\"colorbar\":{\"outlinewidth\":0,\"ticks\":\"\"},\"colorscale\":[[0.0,\"#0d0887\"],[0.1111111111111111,\"#46039f\"],[0.2222222222222222,\"#7201a8\"],[0.3333333333333333,\"#9c179e\"],[0.4444444444444444,\"#bd3786\"],[0.5555555555555556,\"#d8576b\"],[0.6666666666666666,\"#ed7953\"],[0.7777777777777778,\"#fb9f3a\"],[0.8888888888888888,\"#fdca26\"],[1.0,\"#f0f921\"]]}],\"mesh3d\":[{\"type\":\"mesh3d\",\"colorbar\":{\"outlinewidth\":0,\"ticks\":\"\"}}],\"scatter\":[{\"fillpattern\":{\"fillmode\":\"overlay\",\"size\":10,\"solidity\":0.2},\"type\":\"scatter\"}],\"parcoords\":[{\"type\":\"parcoords\",\"line\":{\"colorbar\":{\"outlinewidth\":0,\"ticks\":\"\"}}}],\"scatterpolargl\":[{\"type\":\"scatterpolargl\",\"marker\":{\"colorbar\":{\"outlinewidth\":0,\"ticks\":\"\"}}}],\"bar\":[{\"error_x\":{\"color\":\"#2a3f5f\"},\"error_y\":{\"color\":\"#2a3f5f\"},\"marker\":{\"line\":{\"color\":\"#E5ECF6\",\"width\":0.5},\"pattern\":{\"fillmode\":\"overlay\",\"size\":10,\"solidity\":0.2}},\"type\":\"bar\"}],\"scattergeo\":[{\"type\":\"scattergeo\",\"marker\":{\"colorbar\":{\"outlinewidth\":0,\"ticks\":\"\"}}}],\"scatterpolar\":[{\"type\":\"scatterpolar\",\"marker\":{\"colorbar\":{\"outlinewidth\":0,\"ticks\":\"\"}}}],\"histogram\":[{\"marker\":{\"pattern\":{\"fillmode\":\"overlay\",\"size\":10,\"solidity\":0.2}},\"type\":\"histogram\"}],\"scattergl\":[{\"type\":\"scattergl\",\"marker\":{\"colorbar\":{\"outlinewidth\":0,\"ticks\":\"\"}}}],\"scatter3d\":[{\"type\":\"scatter3d\",\"line\":{\"colorbar\":{\"outlinewidth\":0,\"ticks\":\"\"}},\"marker\":{\"colorbar\":{\"outlinewidth\":0,\"ticks\":\"\"}}}],\"scattermapbox\":[{\"type\":\"scattermapbox\",\"marker\":{\"colorbar\":{\"outlinewidth\":0,\"ticks\":\"\"}}}],\"scatterternary\":[{\"type\":\"scatterternary\",\"marker\":{\"colorbar\":{\"outlinewidth\":0,\"ticks\":\"\"}}}],\"scattercarpet\":[{\"type\":\"scattercarpet\",\"marker\":{\"colorbar\":{\"outlinewidth\":0,\"ticks\":\"\"}}}],\"carpet\":[{\"aaxis\":{\"endlinecolor\":\"#2a3f5f\",\"gridcolor\":\"white\",\"linecolor\":\"white\",\"minorgridcolor\":\"white\",\"startlinecolor\":\"#2a3f5f\"},\"baxis\":{\"endlinecolor\":\"#2a3f5f\",\"gridcolor\":\"white\",\"linecolor\":\"white\",\"minorgridcolor\":\"white\",\"startlinecolor\":\"#2a3f5f\"},\"type\":\"carpet\"}],\"table\":[{\"cells\":{\"fill\":{\"color\":\"#EBF0F8\"},\"line\":{\"color\":\"white\"}},\"header\":{\"fill\":{\"color\":\"#C8D4E3\"},\"line\":{\"color\":\"white\"}},\"type\":\"table\"}],\"barpolar\":[{\"marker\":{\"line\":{\"color\":\"#E5ECF6\",\"width\":0.5},\"pattern\":{\"fillmode\":\"overlay\",\"size\":10,\"solidity\":0.2}},\"type\":\"barpolar\"}],\"pie\":[{\"automargin\":true,\"type\":\"pie\"}]},\"layout\":{\"autotypenumbers\":\"strict\",\"colorway\":[\"#636efa\",\"#EF553B\",\"#00cc96\",\"#ab63fa\",\"#FFA15A\",\"#19d3f3\",\"#FF6692\",\"#B6E880\",\"#FF97FF\",\"#FECB52\"],\"font\":{\"color\":\"#2a3f5f\"},\"hovermode\":\"closest\",\"hoverlabel\":{\"align\":\"left\"},\"paper_bgcolor\":\"white\",\"plot_bgcolor\":\"#E5ECF6\",\"polar\":{\"bgcolor\":\"#E5ECF6\",\"angularaxis\":{\"gridcolor\":\"white\",\"linecolor\":\"white\",\"ticks\":\"\"},\"radialaxis\":{\"gridcolor\":\"white\",\"linecolor\":\"white\",\"ticks\":\"\"}},\"ternary\":{\"bgcolor\":\"#E5ECF6\",\"aaxis\":{\"gridcolor\":\"white\",\"linecolor\":\"white\",\"ticks\":\"\"},\"baxis\":{\"gridcolor\":\"white\",\"linecolor\":\"white\",\"ticks\":\"\"},\"caxis\":{\"gridcolor\":\"white\",\"linecolor\":\"white\",\"ticks\":\"\"}},\"coloraxis\":{\"colorbar\":{\"outlinewidth\":0,\"ticks\":\"\"}},\"colorscale\":{\"sequential\":[[0.0,\"#0d0887\"],[0.1111111111111111,\"#46039f\"],[0.2222222222222222,\"#7201a8\"],[0.3333333333333333,\"#9c179e\"],[0.4444444444444444,\"#bd3786\"],[0.5555555555555556,\"#d8576b\"],[0.6666666666666666,\"#ed7953\"],[0.7777777777777778,\"#fb9f3a\"],[0.8888888888888888,\"#fdca26\"],[1.0,\"#f0f921\"]],\"sequentialminus\":[[0.0,\"#0d0887\"],[0.1111111111111111,\"#46039f\"],[0.2222222222222222,\"#7201a8\"],[0.3333333333333333,\"#9c179e\"],[0.4444444444444444,\"#bd3786\"],[0.5555555555555556,\"#d8576b\"],[0.6666666666666666,\"#ed7953\"],[0.7777777777777778,\"#fb9f3a\"],[0.8888888888888888,\"#fdca26\"],[1.0,\"#f0f921\"]],\"diverging\":[[0,\"#8e0152\"],[0.1,\"#c51b7d\"],[0.2,\"#de77ae\"],[0.3,\"#f1b6da\"],[0.4,\"#fde0ef\"],[0.5,\"#f7f7f7\"],[0.6,\"#e6f5d0\"],[0.7,\"#b8e186\"],[0.8,\"#7fbc41\"],[0.9,\"#4d9221\"],[1,\"#276419\"]]},\"xaxis\":{\"gridcolor\":\"white\",\"linecolor\":\"white\",\"ticks\":\"\",\"title\":{\"standoff\":15},\"zerolinecolor\":\"white\",\"automargin\":true,\"zerolinewidth\":2},\"yaxis\":{\"gridcolor\":\"white\",\"linecolor\":\"white\",\"ticks\":\"\",\"title\":{\"standoff\":15},\"zerolinecolor\":\"white\",\"automargin\":true,\"zerolinewidth\":2},\"scene\":{\"xaxis\":{\"backgroundcolor\":\"#E5ECF6\",\"gridcolor\":\"white\",\"linecolor\":\"white\",\"showbackground\":true,\"ticks\":\"\",\"zerolinecolor\":\"white\",\"gridwidth\":2},\"yaxis\":{\"backgroundcolor\":\"#E5ECF6\",\"gridcolor\":\"white\",\"linecolor\":\"white\",\"showbackground\":true,\"ticks\":\"\",\"zerolinecolor\":\"white\",\"gridwidth\":2},\"zaxis\":{\"backgroundcolor\":\"#E5ECF6\",\"gridcolor\":\"white\",\"linecolor\":\"white\",\"showbackground\":true,\"ticks\":\"\",\"zerolinecolor\":\"white\",\"gridwidth\":2}},\"shapedefaults\":{\"line\":{\"color\":\"#2a3f5f\"}},\"annotationdefaults\":{\"arrowcolor\":\"#2a3f5f\",\"arrowhead\":0,\"arrowwidth\":1},\"geo\":{\"bgcolor\":\"white\",\"landcolor\":\"#E5ECF6\",\"subunitcolor\":\"white\",\"showland\":true,\"showlakes\":true,\"lakecolor\":\"white\"},\"title\":{\"x\":0.05},\"mapbox\":{\"style\":\"light\"}}},\"xaxis\":{\"anchor\":\"y\",\"domain\":[0.0,1.0],\"matches\":\"x3\",\"showticklabels\":false},\"yaxis\":{\"anchor\":\"x\",\"domain\":[0.7,1.0]},\"xaxis2\":{\"anchor\":\"y2\",\"domain\":[0.0,1.0],\"matches\":\"x3\",\"showticklabels\":false},\"yaxis2\":{\"anchor\":\"x2\",\"domain\":[0.35,0.6499999999999999]},\"xaxis3\":{\"anchor\":\"y3\",\"domain\":[0.0,1.0]},\"yaxis3\":{\"anchor\":\"x3\",\"domain\":[0.0,0.3]},\"annotations\":[{\"font\":{\"size\":16},\"showarrow\":false,\"text\":\"Train-Validation Split 1\",\"x\":0.5,\"xanchor\":\"center\",\"xref\":\"paper\",\"y\":1.0,\"yanchor\":\"bottom\",\"yref\":\"paper\"},{\"font\":{\"size\":16},\"showarrow\":false,\"text\":\"Train-Validation Split 2\",\"x\":0.5,\"xanchor\":\"center\",\"xref\":\"paper\",\"y\":0.6499999999999999,\"yanchor\":\"bottom\",\"yref\":\"paper\"},{\"font\":{\"size\":16},\"showarrow\":false,\"text\":\"Train-Validation Split 3\",\"x\":0.5,\"xanchor\":\"center\",\"xref\":\"paper\",\"y\":0.3,\"yanchor\":\"bottom\",\"yref\":\"paper\"},{\"showarrow\":false,\"text\":\"Test duration: 1month\",\"x\":\"2021-12-01T00:00:00\",\"y\":-2},{\"arrowhead\":1,\"showarrow\":true,\"text\":\"Label timespan\",\"x\":\"2021-06-01\",\"xref\":\"x\",\"y\":23,\"yref\":\"y\"},{\"arrowhead\":1,\"showarrow\":true,\"text\":\"Label timespan\",\"x\":\"2022-06-01\",\"xref\":\"x\",\"y\":0,\"yref\":\"y\"}],\"shapes\":[{\"line\":{\"color\":\"green\"},\"type\":\"line\",\"x0\":\"2021-12-01T00:00:00\",\"x1\":\"2021-12-01T00:00:00\",\"xref\":\"x\",\"y0\":-1,\"y1\":-1,\"yref\":\"y\"}],\"height\":500,\"width\":900,\"showlegend\":true},                        {\"responsive\": true}                    ).then(function(){\n",
       "                            \n",
       "var gd = document.getElementById('a5ffcf1b-0697-487d-8a59-111024da6e67');\n",
       "var x = new MutationObserver(function (mutations, observer) {{\n",
       "        var display = window.getComputedStyle(gd).display;\n",
       "        if (!display || display === 'none') {{\n",
       "            console.log([gd, 'removed!']);\n",
       "            Plotly.purge(gd);\n",
       "            observer.disconnect();\n",
       "        }}\n",
       "}});\n",
       "\n",
       "// Listen for the removal of the full notebook cells\n",
       "var notebookContainer = gd.closest('#notebook-container');\n",
       "if (notebookContainer) {{\n",
       "    x.observe(notebookContainer, {childList: true});\n",
       "}}\n",
       "\n",
       "// Listen for the clearing of the current output cell\n",
       "var outputEl = gd.closest('.output');\n",
       "if (outputEl) {{\n",
       "    x.observe(outputEl, {childList: true});\n",
       "}}\n",
       "\n",
       "                        })                };                });            </script>        </div>"
      ]
     },
     "metadata": {},
     "output_type": "display_data"
    }
   ],
   "source": [
    "visualize_chops_plotly(chopper, selected_splits = [0, 1, 2],show_label_timespans=True, show_boxes=True, show_annotations=True)"
   ]
  },
  {
   "cell_type": "code",
   "execution_count": null,
   "metadata": {},
   "outputs": [],
   "source": []
  }
 ],
 "metadata": {
  "kernelspec": {
   "display_name": "Python 3 (ipykernel)",
   "language": "python",
   "name": "python3"
  },
  "language_info": {
   "codemirror_mode": {
    "name": "ipython",
    "version": 3
   },
   "file_extension": ".py",
   "mimetype": "text/x-python",
   "name": "python",
   "nbconvert_exporter": "python",
   "pygments_lexer": "ipython3",
   "version": "3.9.16"
  }
 },
 "nbformat": 4,
 "nbformat_minor": 4
}
